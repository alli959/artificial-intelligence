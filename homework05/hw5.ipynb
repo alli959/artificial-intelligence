{
 "cells": [
  {
   "cell_type": "markdown",
   "metadata": {},
   "source": [
    "## REI602M Machine Learning - Homework 5\n",
    "### Due: *Sunday* 21.2.2021\n",
    "\n",
    "**Objectives**: The AdaBoost classifier. Visualization of high-dimensional data with PCA and t-SNE, Non-negative matrix factorizaton for topic extraction.\n",
    "\n",
    "**Name**: (Alexander Guðmundsson), **email: ** (alg35@hi.is), **collaborators:** (if any)\n",
    "\n",
    "Please provide your solutions by filling in the appropriate cells in this notebook, creating new cells as needed. Hand in your solution on Gradescope, taking care to locate the appropriate page numbers in the PDF document. Make sure that you are familiar with the course rules on collaboration (encouraged) and copying (very, very, bad).\n",
    "\n",
    "Note: The Adaboost exercise involves more programming than usual."
   ]
  },
  {
   "cell_type": "markdown",
   "metadata": {},
   "source": [
    "### 1\\. [Visualization of high-dimensional data, 20 points]\n",
    "In this problem you will use PCA and t-SNE to visualize a high-dimensional data set derived from 300 Wikipedia articles selected from few broad groups of topics. For each Wikipedia article, the most common words such as 'an' and 'the' were removed and the rest of the words run through a stemming algorithm (converting e.g. 'longer' and 'longest' to 'long'). This resulted in a dictionary of all the words that occur in the 300 articles. The total number of words was 1000. A 1000-element histogram vector was then constructed for each article, where element $j$ is the frequency of word $j$ in the document, i.e. a 300 by 1000 matrix. The data is stored in the Numpy file `wikipedia_corpus.npz`.\n",
    "\n",
    "a) [10 points] Use PCA to create a 2D figure where each article in the figure is represented by a short string based on its title.\n",
    "\n",
    "b) [10 points] Use the t-SNE code provided with the assignment to create a similar figure to the one in a). You need to try a few different values of the perplexity parameter before you get a nice projection (include only the best one in your report). Can you \"squeeze\" more titles into this figure than the one in a)? \n",
    "\n",
    "What, if anything, can you conclude from your visualization experiments?\n",
    "\n",
    "*Comments*:\n",
    "\n",
    "1) The `wikipedia_corpus.npz` file contains three arrays which you access as follows\n",
    "\n",
    "```python\n",
    "import numpy as np\n",
    "data=np.load('wikipedia_corpus.npz', allow_pickle=True)\n",
    "dictionary = data[\"dictionary\"]\n",
    "article_titles = data[\"article_titles\"]\n",
    "article_histograms = data[\"article_histograms\"] # Data matrix```\n",
    "\n",
    "2) Creating informative figures usually takes some effort, so expect to spend some time tinkering with your figure. See http://www.cs.toronto.edu/~hinton/turian.png for an example of how your figure could look like.\n",
    "\n",
    "3) You should try to use as large figure as possible, use `plt.figure(figsize=(xsize,ysize))`\n",
    "\n",
    "4) You can only display titles of 100 -- 150 articles in the figure, otherwise you are likely to end up with a black mess.\n",
    "\n",
    "5) Some of the titles are quite long and you should therefore truncate them somehow, e.g. by keeping only the two first words in the title. Useful Python's string `split` and `join` methods may come in handy. Use `plt.text` to display text in the figure.\n",
    "\n",
    "6) Use PCA from scikit and the t-SNE code provided with this assignment (taken from https://lvdmaaten.github.io/tsne/). Note that for high-dimensional data, PCA is typically employed as a pre-processing step prior to running t-SNE in order to reduce the dimensionality of the data (typically to 30 - 50 dimensions). This reduces noise and speeds up the stochastic gradient descent in t-SNE. The preprocessing step is done automatically in the code supplied with the assignment but when you use the implementation in scikit-learn you must perform the PCA step manually.\n",
    "\n",
    "7) While t-SNE is very useful, there are several caveats one should be aware of. See e.g.\n",
    "https://distill.pub/2016/misread-tsne/"
   ]
  },
  {
   "cell_type": "code",
   "execution_count": 200,
   "metadata": {},
   "outputs": [
    {
     "name": "stdout",
     "output_type": "stream",
     "text": [
      "000\n"
     ]
    },
    {
     "data": {
      "text/plain": [
       "Text(0.5, 0.5, 'Acid rain')"
      ]
     },
     "execution_count": 200,
     "metadata": {},
     "output_type": "execute_result"
    },
    {
     "data": {
      "image/png": "[encoded data removed]",
      "text/plain": [
       "<Figure size 720x720 with 1 Axes>"
      ]
     },
     "metadata": {
      "needs_background": "light"
     },
     "output_type": "display_data"
    }
   ],
   "source": [
    "# a)\n",
    "import numpy as np\n",
    "import matplotlib.pyplot as plt\n",
    "from sklearn.decomposition import PCA\n",
    "\n",
    "data = np.load('wikipedia_corpus.npz', allow_pickle=True)\n",
    "dictionary = data[\"dictionary\"]\n",
    "article_titles = data[\"article_titles\"]\n",
    "article_histograms = data[\"article_histograms\"] #Data matrix\n",
    "\n",
    "\n",
    "\n",
    "pca = PCA(n_components = 10).fit(article_histograms)\n",
    "print(pca)\n",
    "plt.figure(figsize=(10,10))\n",
    "plt.text(0.5,0.5,article_titles[0])\n",
    "plt.text(0.5,0.5,article_titles[1])\n",
    "\n",
    "\n",
    "\n",
    "\n",
    "\n",
    "      \n"
   ]
  },
  {
   "cell_type": "code",
   "execution_count": null,
   "metadata": {},
   "outputs": [],
   "source": [
    "# b)\n",
    "# Insert your code here\n",
    "# ..."
   ]
  },
  {
   "cell_type": "markdown",
   "metadata": {},
   "source": [
    "### 2\\. [Topic discovery with NMF, 40 points]\n",
    "Here you will use non-negative matrix factorization (NMF)to analyze the content of a collection of articles from the New York Times. In particular, you will attempt to discover the main topics of the article collection by performing non-negative matrix factorization to a term-document matrix derived from the raw articles.\n",
    "\n",
    "The NMF approximates a *non-negative* $n \\times p$ matrix $X$ of rank $r$ with a rank $k \\leq r$ matrix such that\n",
    "\n",
    "$$\n",
    "X \\approx WH\n",
    "$$\n",
    "\n",
    "where $W$ is a $n \\times k$ matrix with $W_{ij} \\geq 0$ and $H$ is a $k \\times p$ matrix with $H_{ij} \\geq 0$. Provided that $k$ is appropriately chosen, the *weight matrix* $W$ and *coefficient matrix* $H$ can reveal interesting structures in the data. Column $j$ of $X$ is approximated with (see comment 1 below)\n",
    "\n",
    "$$\n",
    "X_{:,j} \\approx (WH)_{:,j} = H_{1j}W_{:,1} + H_{2j}W_{:,2} + \\ldots + H_{kj}W_{:,k}\n",
    "$$\n",
    "\n",
    "where the subscript $:,j$ denotes column $j$. When the columns of $X$ correspond to individual articles, the columns of $W$ correspond to the main topics in the articles and column $j$ of $H$ contains information on how the topics are \"mixed\" together to form (approximately) column $j$ of $X$.\n",
    "\n",
    "a) [30 points] Download the NYT articles from https://notendur.hi.is/steinng/kennsla/2021/ml/data/NYT.zip. Create a document-term matrix using word counts or TF-IDF (see below). For a given value of $k$, perform NMF on the *transposed* matrix and list the words corresponding to the largest $W_{ij}$ values for columns $j=1,\\ldots,k$. You need to experiment with different values of $k$ to get interesting topic groupings. If $k$ is too low different topics will be mixed together, when $k$ gets large, the same subject will appear in multiple groups. Report your results (c.a. 20 words on each topic) for the value of $k$ that you end up picking.\n",
    "\n",
    "b) [10 points] Select two or three topics that you find interesting. Identify the corresponding columns in $W$ and examine 3 - 5 articles using the largest $H$-values as indices. How does the content of the articles match the selected topics?\n",
    "\n",
    "*Comments*:\n",
    "\n",
    "1) The $n \\times k$ matrix-vector product $y=Ax$ can be interpreted as a weighted sum of the columns of $A$,\n",
    "$$\n",
    "y=\n",
    "\\begin{array}{ccc}\n",
    "~\\mid &  & ~\\mid \\\\\n",
    "x_1 a_1 & + \\ldots + & x_k a_k \\\\\n",
    "~\\mid & & ~\\mid \\\\\n",
    "\\end{array}\n",
    "$$\n",
    "and matrix multiplication can be considered as multiple matrix-vector products.\n",
    "\n",
    "2) Use the NMF implementation in`from sklearn.decomposition.NMF`. You can use the Wikipedia data set from problem 1) to test your NMF-based topic discovery code. Once you get convincing results, apply your code to the NYT data.\n",
    "\n",
    "3) Use `sklearn.feature_extraction.text.CountVectorizer` to create the document-term matrix based on word counts from the raw newspaper articles. This function performs tokenization, counting, normalization and removes stop words. You can try the following parameter values `max_df=0.95` (remove words that occur in at least 95% of the documents), `min_df=10` (remove words that occur in fewer than ten documents), `stop_words='english'`. You should specify a value for `max_features=` (default is all).\n",
    "\n",
    "4) Use `CountVectorizer.get_feature_names()` to get the list of words that were retained. Sidenote: Rare words are downplayed by the term-frequency encoding used here but they are often found to be informative. Therefore people often encode documents using term-frequency-inverse document frequency (`TfidfVectorizer` in Scikit-learn).\n",
    "\n",
    "5) Scikit-learn's NMF function obtaines the factorization $X \\approx WH$ by minimizing the objective function $0.5||X - WH||_F^2$ (where $||A||_F$ denotes the Frobenius norm of a $n \\times p$ matrix $A$, $||A||_F = \\sqrt{\\sum_{i=1}^n \\sum_{j=1}^p A_{ij}^2}$. The NMF implementation provides means to regularize the solution via parameters `alpha` and `l1_ratio`. You may want to experiment with these parameters to see if you can improve the list of topics.\n",
    "\n",
    "6) The $H$ matrix is stored in `nmf.components_`\n",
    "\n",
    "7) The NMF is described briefly in section 14.6 of ESL. A more detailed account can be found in the original article\n",
    "http://www.cs.columbia.edu/~blei/fogm/2020F/readings/LeeSeung1999.pdf"
   ]
  },
  {
   "cell_type": "code",
   "execution_count": 264,
   "metadata": {},
   "outputs": [
    {
     "name": "stdout",
     "output_type": "stream",
     "text": [
      "Number of articles: 8893\n"
     ]
    }
   ],
   "source": [
    "# Read the NYT articles from a text file. Code adapted from a workbook found on Kaggle.\n",
    "import numpy as np\n",
    "import re\n",
    "\n",
    "NYTFile = open('./NYT/nytimes_news_articles.txt', encoding='utf-8')\n",
    "NYTFile.seek(0)\n",
    "raw = NYTFile.readlines()\n",
    "articles = []\n",
    "sent = ''\n",
    "\n",
    "for i in range(0, len(raw) - 1):\n",
    "    if re.findall('URL',raw[i]) == []:\n",
    "        sent = sent + raw[i]\n",
    "        if (re.findall('URL', raw[i+1]) != []) and (i+1 < len(raw)):\n",
    "            articles.append(sent.strip())\n",
    "    else:\n",
    "        sent = ''\n",
    "print(\"Number of articles:\", len(articles))"
   ]
  },
  {
   "cell_type": "code",
   "execution_count": 311,
   "metadata": {},
   "outputs": [
    {
     "name": "stdout",
     "output_type": "stream",
     "text": [
      "(8893, 10)\n",
      "top 20 words in Topic 1\n",
      "['zuckerberg', 'kennedy', 'kenya', 'kerr', 'kerry', 'key', 'khan', 'kick', 'kelly', 'kid', 'kim', 'king', 'kingdom', 'kings', 'korea', 'kurdish', 'label', 'kids', 'kate', 'kasich']\n",
      "top 20 words in Topic 2\n",
      "['000', 'improve', 'improved', 'improvement', 'improving', 'inch', 'inches', 'incident', 'swept', 'sweet', 'income', 'incorrectly', 'increase', 'increased', 'increases', 'increasing', 'incredible', 'incredibly', 'independence', 'sweden']\n",
      "top 20 words in Topic 3\n",
      "['000', 'marathon', 'marc', 'maria', 'marijuana', 'marine', 'market', 'markets', 'married', 'martin', 'mary', 'maryland', 'massachusetts', 'match', 'matches', 'mateen', 'material', 'materials', 'math', 'matt']\n",
      "top 20 words in Topic 4\n",
      "['qualified', 'falluja', 'blamed', 'blasio', 'payment', 'blazers', 'bloc', 'reforms', 'blocked', 'shiite', 'yahoo', 'puck', 'madrid', 'majority', 'failing', 'refugees', 'board', 'courtroom', 'court', 'management']\n",
      "top 20 words in Topic 5\n",
      "['000', 'journalism', 'journalist', 'journalists', 'judicial', 'zoo', 'justice', 'justices', 'journal', 'kabul', 'kenya', 'kerry', 'khan', 'kill', 'killed', 'killing', 'killings', 'kate', 'jokes', 'joint']\n",
      "top 20 words in Topic 6\n",
      "['zuckerberg', 'learn', 'learning', 'lebron', 'legally', 'legitimate', 'leicester', 'lenders', 'lending', 'leagues', 'lesbian', 'level', 'levels', 'lewandowski', 'libya', 'license', 'lie', 'lightning', 'likely', 'lessons']\n",
      "top 20 words in Topic 7\n",
      "['holes', 'teach', 'greatest', 'saying', 'green', 'grew', 'grill', 'saw', 'ground', 'grounds', 'groups', 'saves', 'guard', 'guards', 'guess', 'guilty', 'scene', 'guitar', 'gray', 'grass']\n",
      "top 20 words in Topic 8\n",
      "['zuckerberg', 'lenders', 'lending', 'let', 'letting', 'lewandowski', 'libya', 'lies', 'lifetime', 'light', 'lighting', 'lightning', 'lights', 'worth', 'liked', 'likes', 'lin', 'lineup', 'linked', 'linkedin']\n",
      "top 20 words in Topic 9\n",
      "['zuckerberg', 'islands', 'isolated', 'israel', 'israeli', 'studying', 'issued', 'study', 'istanbul', 'italian', 'italy', 'items', 'jacket', 'jackson', 'jail', 'james', 'janeiro', 'studios', 'japanese', 'jason']\n",
      "top 20 words in Topic 10\n",
      "['just', 'jones', 'jose', 'journalism', 'journey', 'joy', 'jump', 'jon', 'jumped', 'zoo', 'justin', 'kasich', 'kate', 'keeps', 'keith', 'junior', 'kelly', 'jokes', 'joe', 'jackson']\n"
     ]
    }
   ],
   "source": [
    "# a)\n",
    "from sklearn.decomposition import NMF\n",
    "from sklearn.feature_extraction.text import CountVectorizer\n",
    "\n",
    "\n",
    "\n",
    "\n",
    "max_words = 20  \n",
    "    \n",
    "\n",
    "#vectorize the data\n",
    "vectorize = CountVectorizer(max_df=0.95, min_df=10, stop_words='english', max_features=5000)\n",
    "\n",
    "X = vectorize.fit_transform(articles)\n",
    "words = vectorize.get_feature_names() #words in the article\n",
    "\n",
    "#Let's start by defining K = 10\n",
    "k = 10\n",
    "model = NMF(n_components = k, random_state=50, max_iter=5000) #creating the model\n",
    "W = model.fit_transform(X)\n",
    "print(W.shape)\n",
    "H = model.components_\n",
    "test = model.inverse_transform(W)\n",
    "\n",
    "\n",
    "wordsByTopic = []\n",
    "importanceIndex = [] # indexes of importance by topic\n",
    "#get the top words from each topic\n",
    "for i in range(k):\n",
    "    importance_sorted = np.argsort(H[i])[:max_words]\n",
    "    importanceIndex.append(importance_sorted)\n",
    "    print(\"top 20 words in Topic \" + str(i+1))\n",
    "    wordsInTopic = [words[j] for j in importance_sorted]\n",
    "    print(wordsInTopic)\n",
    "    wordsByTopic.append(wordsInTopic)\n",
    "    \n",
    "    \n",
    "\n",
    "    \n",
    "    \n",
    "    \n",
    "\n",
    "    \n",
    "    \n",
    "\n"
   ]
  },
  {
   "cell_type": "markdown",
   "metadata": {},
   "source": [
    "as we can see from these topics, they are mostly arranged in an alphabetical order, all labels that are interesting could just be coinsident because of the alphabetical order."
   ]
  },
  {
   "cell_type": "code",
   "execution_count": 307,
   "metadata": {},
   "outputs": [
    {
     "name": "stdout",
     "output_type": "stream",
     "text": [
      "[    0 13433 13434 13435 13436 13437 13438 13439 13440 13441 13442 13445\n",
      " 13446 13447 13448 13432 13449 13451 13452 13455]\n",
      "  (340, 0)\t1\n",
      "  (504, 0)\t1\n",
      "  (539, 0)\t3\n",
      "  (696, 0)\t1\n",
      "  (973, 0)\t1\n",
      "  (993, 0)\t2\n",
      "  (1107, 0)\t1\n",
      "  (1126, 0)\t1\n",
      "  (1459, 0)\t1\n",
      "  (1683, 0)\t3\n",
      "  (1927, 0)\t6\n",
      "  (1989, 0)\t1\n",
      "  (2277, 0)\t1\n",
      "  (2545, 0)\t1\n",
      "  (2566, 0)\t1\n",
      "  (2609, 0)\t1\n",
      "  (2753, 0)\t1\n",
      "  (2827, 0)\t1\n",
      "  (2834, 0)\t1\n",
      "  (2856, 0)\t1\n",
      "  (2975, 0)\t1\n",
      "  (3042, 0)\t1\n",
      "  (3172, 0)\t1\n",
      "  (3221, 0)\t1\n",
      "  (3834, 0)\t1\n",
      "  (4070, 0)\t1\n",
      "  (4699, 0)\t1\n",
      "  (4702, 0)\t1\n",
      "  (4945, 0)\t1\n",
      "  (5125, 0)\t1\n",
      "  (5153, 0)\t1\n",
      "  (5471, 0)\t1\n",
      "  (5616, 0)\t1\n",
      "  (6047, 0)\t1\n",
      "  (6502, 0)\t1\n",
      "  (6547, 0)\t1\n",
      "  (6655, 0)\t2\n",
      "  (6835, 0)\t1\n",
      "  (6840, 0)\t1\n",
      "  (7314, 0)\t1\n",
      "  (7811, 0)\t1\n",
      "  (7926, 0)\t1\n",
      "  (8608, 0)\t1\n"
     ]
    }
   ],
   "source": [
    "Wtemp = importanceIndex[0]\n",
    "\n",
    "\n",
    "\n",
    "\n"
   ]
  },
  {
   "cell_type": "code",
   "execution_count": null,
   "metadata": {},
   "outputs": [],
   "source": []
  },
  {
   "cell_type": "code",
   "execution_count": null,
   "metadata": {},
   "outputs": [],
   "source": []
  },
  {
   "cell_type": "code",
   "execution_count": null,
   "metadata": {},
   "outputs": [],
   "source": []
  },
  {
   "cell_type": "code",
   "execution_count": null,
   "metadata": {},
   "outputs": [],
   "source": [
    "# b)\n",
    "# Insert your code here\n",
    "# ..."
   ]
  },
  {
   "cell_type": "markdown",
   "metadata": {},
   "source": [
    "### 1\\. [AdaBoost classifier, 40 points]\n",
    "\n",
    "Implement the AdaBoost algorithm described on page 339 in ESL using decision tree stumps (root node + two leaf nodes) as base classifiers and redo the computations for the example of Figure 10.2 in ESL. Plot the training and test errors as a function of iteration number. Discuss briefly your findings. \n",
    "\n",
    "Repeat the experiments using a decision tree that captures 2-way feature interactions (3 leaf nodes). How do the results differ from the previous one?\n",
    "\n",
    "Use the following artifical data set. The features $x_1^{(i)},\\ldots,x_{10}^{(i)}$ are standard independent normally distributed variables and the output is defined as $y^{(i)}=1$ if $\\sum_{j=1}^{10} (x^{(i)}_j)^2 > 9.34$ and zero otherwise (see comments below).\n",
    "\n",
    "*Comments*:\n",
    "\n",
    "1) Use `sklearn.tree.DecisionTreeClassifier` to generate the decision trees. Tree stumps are obtained by setting `max_leaf_nodes=2`. The behaviour of your ensemble classifier may be somewhat different from the one shown in Figure 10.2 in ESL since the implementation of the base tree classifier is different. For this reason you can use e.g. 1000 boosting iterations instead of 400.\n",
    "\n",
    "2) The `DecisionTreeClassifier.fit` function accepts a vector of sample weights as an optional argument.\n",
    "\n",
    "3) The training and test data is generated by the function `hw5_data` below. Use $n=1000$ samples for training and testing.\n",
    "\n",
    "4) If $\\text{err}_m$ becomes zero we are done."
   ]
  },
  {
   "cell_type": "code",
   "execution_count": 99,
   "metadata": {},
   "outputs": [],
   "source": [
    "import numpy as np\n",
    "import math\n",
    "\n",
    "def hw5_data(n=1000):\n",
    "    # Toy dataset from page 339 in ESL\n",
    "    X=np.random.randn(2*n,10)\n",
    "    y=2*(np.sum(X**2,axis=1)>9.34)-1\n",
    "    return X,y"
   ]
  },
  {
   "cell_type": "code",
   "execution_count": 272,
   "metadata": {},
   "outputs": [
    {
     "name": "stdout",
     "output_type": "stream",
     "text": [
      "0.5\n",
      "0.49999999999997935\n",
      "0.49999999999990796\n",
      "0.49999999999995914\n",
      "0.49999999999998457\n"
     ]
    }
   ],
   "source": [
    "from sklearn.tree import DecisionTreeClassifier as DTC\n",
    "from sklearn.model_selection import train_test_split\n",
    "from sklearn.model_selection import cross_val_score\n",
    "\n",
    "\n",
    "X,y = hw5_data()\n",
    "X_train, X_test, y_train, y_test = train_test_split(X, y, test_size=0.5, random_state=42)\n",
    "n,m = X_train.shape\n",
    "w = np.array([1/n]*len(X_train))\n",
    "\n",
    "classifiers = []\n",
    "\n",
    "for i in range(5):\n",
    "    tree = DTC(max_leaf_nodes = 2).fit(X_train, y_train, sample_weight = w)\n",
    "    for i in range(m):\n",
    "        y_pred = tree.predict(X_train)\n",
    "        #let's find Em\n",
    "        error = 1 * (y_pred != y_train) #check if y_pred == y_test\n",
    "        top = np.sum(np.dot(w,error))\n",
    "        Em = (top/np.sum(w))\n",
    "        if Em > 0.5:\n",
    "            Em = 1 - Em\n",
    "        #Let's find Am\n",
    "        temp = (1-Em)/Em\n",
    "        Am = np.log(temp)\n",
    "\n",
    "        #let's find new weights\n",
    "        for i in range(len(w)):\n",
    "            exp = np.exp(Am*error[i])\n",
    "            oldw = w[i]\n",
    "            w[i] = oldw*exp\n",
    "\n",
    "\n",
    "    print(Em)"
   ]
  },
  {
   "cell_type": "code",
   "execution_count": null,
   "metadata": {},
   "outputs": [],
   "source": []
  }
 ],
 "metadata": {
  "kernelspec": {
   "display_name": "Python 3",
   "language": "python",
   "name": "python3"
  },
  "language_info": {
   "codemirror_mode": {
    "name": "ipython",
    "version": 3
   },
   "file_extension": ".py",
   "mimetype": "text/x-python",
   "name": "python",
   "nbconvert_exporter": "python",
   "pygments_lexer": "ipython3",
   "version": "3.8.3"
  }
 },
 "nbformat": 4,
 "nbformat_minor": 2
}
