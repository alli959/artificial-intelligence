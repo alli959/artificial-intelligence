{
 "cells": [
  {
   "cell_type": "markdown",
   "metadata": {
    "colab_type": "text",
    "id": "DzKqk0wKCV6t"
   },
   "source": [
    "## Neural networks in Keras (Tensorflow)\n",
    "\n",
    "TensorFlow is a software package from Google which is widely used in Machine learning. The package contains implementations of many neural network algorithms and network architectures. We interface with TensorFlow with a package called Keras which is included in TensorFlow.\n",
    "\n",
    "Instructions for installing TensorFlow with Anaconda: https://docs.anaconda.com/anaconda/user-guide/tasks/tensorflow/\n",
    "Start with the CPU-only version. If you run into installation problems or long running times, you should definitely consider Google's Colab: https://colab.research.google.com/ which has numpy, scikit, keras and many more packages pre-installed and provides free access to GPUs. You can upload this Jupyter notebook directly into Colab."
   ]
  },
  {
   "cell_type": "markdown",
   "metadata": {},
   "source": [
    "### Multi-layer networks used to classify the Fashion MNIST image data set\n",
    "\n",
    "This data set is included in the Keras distribution. Note that we do not exploit the fact that the inputs are images and the prediction accuracy is therefore not as good as it can be.\n",
    "\n",
    "There is a separate test set which is used to evaluate classifier accuracy. We set aside a part of the training data to monitor the training process and decide when to stop training (otherwise we may end up overfitting the training data)"
   ]
  },
  {
   "cell_type": "code",
   "execution_count": 1,
   "metadata": {
    "colab": {},
    "colab_type": "code",
    "id": "L-f9D6u0B9mT"
   },
   "outputs": [
    {
     "name": "stdout",
     "output_type": "stream",
     "text": [
      "Training set: (50000, 784)\n",
      "Validation set: (10000, 784)\n",
      "Test set: (10000, 784)\n"
     ]
    }
   ],
   "source": [
    "import tensorflow as tf\n",
    "import numpy as np\n",
    "\n",
    "import tensorflow as tf\n",
    "import numpy as np\n",
    "from sklearn.model_selection import train_test_split\n",
    "\n",
    "(x_tr, y_tr), (x_test, y_test) = tf.keras.datasets.fashion_mnist.load_data()\n",
    "\n",
    "# Flatten 28x28 images into a single vector\n",
    "x_tr = x_tr.reshape(-1,28*28)\n",
    "x_test = x_test.reshape(-1,28*28)\n",
    "\n",
    "# Set aside validation data for monitoring training progress\n",
    "x_train, x_val, y_train, y_val = train_test_split(x_tr, y_tr, test_size=10000, \\\n",
    "                                                  random_state=42)\n",
    "\n",
    "# Subtract mean and divide by *overall* standard deviation\n",
    "mean = np.mean(x_train)\n",
    "std = np.std(x_train) # a scalar value (*not* columnwise scaling)\n",
    "x_train = (x_train - mean) / std\n",
    "x_val = (x_val - mean) / std\n",
    "x_test = (x_test - mean) / std\n",
    "\n",
    "print(\"Training set:\", x_train.shape)\n",
    "print(\"Validation set:\", x_val.shape)\n",
    "print(\"Test set:\", x_test.shape)"
   ]
  },
  {
   "cell_type": "markdown",
   "metadata": {
    "colab_type": "text",
    "id": "qkJ8gLl7PBdc"
   },
   "source": [
    "### A feedforward network with a single hidden layer using sigmoid activations\n",
    "\n",
    "A textbook example on how *not* to design a neural network (sigmoid's are bad, mkay)."
   ]
  },
  {
   "cell_type": "code",
   "execution_count": 2,
   "metadata": {
    "colab": {},
    "colab_type": "code",
    "id": "GPVmt1q8DHBf",
    "scrolled": false
   },
   "outputs": [
    {
     "name": "stdout",
     "output_type": "stream",
     "text": [
      "Model: \"sequential\"\n",
      "_________________________________________________________________\n",
      "Layer (type)                 Output Shape              Param #   \n",
      "=================================================================\n",
      "dense (Dense)                (None, 10)                7850      \n",
      "_________________________________________________________________\n",
      "activation (Activation)      (None, 10)                0         \n",
      "_________________________________________________________________\n",
      "dense_1 (Dense)              (None, 10)                110       \n",
      "_________________________________________________________________\n",
      "activation_1 (Activation)    (None, 10)                0         \n",
      "=================================================================\n",
      "Total params: 7,960\n",
      "Trainable params: 7,960\n",
      "Non-trainable params: 0\n",
      "_________________________________________________________________\n",
      "Train on 50000 samples, validate on 10000 samples\n",
      "Epoch 1/30\n",
      "50000/50000 [==============================] - 4s 74us/sample - loss: 2.0260 - accuracy: 0.3602 - val_loss: 1.8444 - val_accuracy: 0.5212\n",
      "Epoch 2/30\n",
      "50000/50000 [==============================] - 2s 39us/sample - loss: 1.7454 - accuracy: 0.5767 - val_loss: 1.6613 - val_accuracy: 0.6040\n",
      "Epoch 3/30\n",
      "50000/50000 [==============================] - 2s 41us/sample - loss: 1.5895 - accuracy: 0.6186 - val_loss: 1.5294 - val_accuracy: 0.6236\n",
      "Epoch 4/30\n",
      "50000/50000 [==============================] - 2s 41us/sample - loss: 1.4717 - accuracy: 0.6369 - val_loss: 1.4262 - val_accuracy: 0.6385\n",
      "Epoch 5/30\n",
      "50000/50000 [==============================] - 2s 39us/sample - loss: 1.3782 - accuracy: 0.6478 - val_loss: 1.3431 - val_accuracy: 0.6511\n",
      "Epoch 6/30\n",
      "50000/50000 [==============================] - 2s 43us/sample - loss: 1.3017 - accuracy: 0.6608 - val_loss: 1.2742 - val_accuracy: 0.6666\n",
      "Epoch 7/30\n",
      "50000/50000 [==============================] - 2s 45us/sample - loss: 1.2376 - accuracy: 0.6743 - val_loss: 1.2161 - val_accuracy: 0.6742\n",
      "Epoch 8/30\n",
      "50000/50000 [==============================] - 2s 44us/sample - loss: 1.1831 - accuracy: 0.6802 - val_loss: 1.1661 - val_accuracy: 0.6815\n",
      "Epoch 9/30\n",
      "50000/50000 [==============================] - 2s 42us/sample - loss: 1.1359 - accuracy: 0.6902 - val_loss: 1.1228 - val_accuracy: 0.6860\n",
      "Epoch 10/30\n",
      "50000/50000 [==============================] - 2s 41us/sample - loss: 1.0946 - accuracy: 0.6942 - val_loss: 1.0848 - val_accuracy: 0.6916\n",
      "Epoch 11/30\n",
      "50000/50000 [==============================] - 2s 40us/sample - loss: 1.0583 - accuracy: 0.6996 - val_loss: 1.0512 - val_accuracy: 0.6956\n",
      "Epoch 12/30\n",
      "50000/50000 [==============================] - 2s 40us/sample - loss: 1.0260 - accuracy: 0.7033 - val_loss: 1.0213 - val_accuracy: 0.7001\n",
      "Epoch 13/30\n",
      "50000/50000 [==============================] - 2s 37us/sample - loss: 0.9971 - accuracy: 0.7065 - val_loss: 0.9947 - val_accuracy: 0.7031\n",
      "Epoch 14/30\n",
      "50000/50000 [==============================] - 2s 45us/sample - loss: 0.9712 - accuracy: 0.7099 - val_loss: 0.9704 - val_accuracy: 0.7051\n",
      "Epoch 15/30\n",
      "50000/50000 [==============================] - 2s 45us/sample - loss: 0.9478 - accuracy: 0.7130 - val_loss: 0.9486 - val_accuracy: 0.7078\n",
      "Epoch 16/30\n",
      "50000/50000 [==============================] - 2s 46us/sample - loss: 0.9265 - accuracy: 0.7150 - val_loss: 0.9287 - val_accuracy: 0.7103\n",
      "Epoch 17/30\n",
      "50000/50000 [==============================] - 2s 41us/sample - loss: 0.9071 - accuracy: 0.7173 - val_loss: 0.9105 - val_accuracy: 0.7123\n",
      "Epoch 18/30\n",
      "50000/50000 [==============================] - 2s 41us/sample - loss: 0.8894 - accuracy: 0.7197 - val_loss: 0.8938 - val_accuracy: 0.7138\n",
      "Epoch 19/30\n",
      "50000/50000 [==============================] - 2s 39us/sample - loss: 0.8730 - accuracy: 0.7214 - val_loss: 0.8784 - val_accuracy: 0.7164\n",
      "Epoch 20/30\n",
      "50000/50000 [==============================] - 2s 39us/sample - loss: 0.8580 - accuracy: 0.7236 - val_loss: 0.8643 - val_accuracy: 0.7176\n",
      "Epoch 21/30\n",
      "50000/50000 [==============================] - 2s 41us/sample - loss: 0.8441 - accuracy: 0.7252 - val_loss: 0.8511 - val_accuracy: 0.7197\n",
      "Epoch 22/30\n",
      "50000/50000 [==============================] - 2s 44us/sample - loss: 0.8312 - accuracy: 0.7266 - val_loss: 0.8388 - val_accuracy: 0.7217\n",
      "Epoch 23/30\n",
      "50000/50000 [==============================] - 2s 44us/sample - loss: 0.8192 - accuracy: 0.7279 - val_loss: 0.8274 - val_accuracy: 0.7225\n",
      "Epoch 24/30\n",
      "50000/50000 [==============================] - 2s 43us/sample - loss: 0.8080 - accuracy: 0.7300 - val_loss: 0.8167 - val_accuracy: 0.7246\n",
      "Epoch 25/30\n",
      "50000/50000 [==============================] - 2s 37us/sample - loss: 0.7975 - accuracy: 0.7312 - val_loss: 0.8067 - val_accuracy: 0.7256\n",
      "Epoch 26/30\n",
      "50000/50000 [==============================] - 2s 39us/sample - loss: 0.7876 - accuracy: 0.7331 - val_loss: 0.7971 - val_accuracy: 0.7272\n",
      "Epoch 27/30\n",
      "50000/50000 [==============================] - 2s 38us/sample - loss: 0.7784 - accuracy: 0.7344 - val_loss: 0.7881 - val_accuracy: 0.7283\n",
      "Epoch 28/30\n",
      "50000/50000 [==============================] - 2s 41us/sample - loss: 0.7696 - accuracy: 0.7364 - val_loss: 0.7797 - val_accuracy: 0.7305\n",
      "Epoch 29/30\n",
      "50000/50000 [==============================] - 2s 42us/sample - loss: 0.7612 - accuracy: 0.7386 - val_loss: 0.7716 - val_accuracy: 0.7333\n",
      "Epoch 30/30\n",
      "50000/50000 [==============================] - 2s 44us/sample - loss: 0.7533 - accuracy: 0.7399 - val_loss: 0.7639 - val_accuracy: 0.7358\n",
      "Test accuracy: 0.7295\n"
     ]
    }
   ],
   "source": [
    "from tensorflow.keras.models import Sequential\n",
    "from tensorflow.keras.layers import Dense, Activation\n",
    "\n",
    "num_classes=10\n",
    "num_epochs=30\n",
    "n_hidden=10 # Number of nodes in hidden layer\n",
    "batch_size=256\n",
    "\n",
    "# This is everything that is needed to build the network:\n",
    "model = Sequential([\n",
    "    Dense(n_hidden, \n",
    "    input_dim=x_train.shape[1]),\n",
    "    Activation('sigmoid'),\n",
    "    Dense(num_classes),\n",
    "    Activation('softmax'), # Multi-class problem\n",
    "])\n",
    "model.summary()\n",
    "\n",
    "model.compile(optimizer='sgd',\n",
    "              loss='sparse_categorical_crossentropy', # Labels are integer valued\n",
    "              metrics=['accuracy'])\n",
    "\n",
    "history=model.fit(x_train, y_train, \n",
    "                  epochs=num_epochs, batch_size=batch_size,\n",
    "                  verbose=1, validation_data=(x_val, y_val))\n",
    "\n",
    "score = model.evaluate(x_test, y_test, verbose=0)\n",
    "print('Test accuracy:', score[1])"
   ]
  },
  {
   "cell_type": "code",
   "execution_count": 4,
   "metadata": {},
   "outputs": [
    {
     "name": "stdout",
     "output_type": "stream",
     "text": [
      "Train on 50000 samples, validate on 10000 samples\n",
      "Epoch 1/30\n",
      "50000/50000 [==============================] - 2s 41us/sample - loss: 0.7457 - accuracy: 0.7417 - val_loss: 0.7564 - val_accuracy: 0.7386\n",
      "Epoch 2/30\n",
      "50000/50000 [==============================] - 2s 39us/sample - loss: 0.7384 - accuracy: 0.7432 - val_loss: 0.7493 - val_accuracy: 0.7409\n",
      "Epoch 3/30\n",
      "50000/50000 [==============================] - 2s 41us/sample - loss: 0.7313 - accuracy: 0.7448 - val_loss: 0.7424 - val_accuracy: 0.7428\n",
      "Epoch 4/30\n",
      "50000/50000 [==============================] - 2s 41us/sample - loss: 0.7245 - accuracy: 0.7468 - val_loss: 0.7357 - val_accuracy: 0.7440\n",
      "Epoch 5/30\n",
      "50000/50000 [==============================] - 2s 44us/sample - loss: 0.7178 - accuracy: 0.7487 - val_loss: 0.7292 - val_accuracy: 0.7461\n",
      "Epoch 6/30\n",
      "50000/50000 [==============================] - 2s 45us/sample - loss: 0.7114 - accuracy: 0.7511 - val_loss: 0.7228 - val_accuracy: 0.7488\n",
      "Epoch 7/30\n",
      "50000/50000 [==============================] - 2s 41us/sample - loss: 0.7051 - accuracy: 0.7538 - val_loss: 0.7167 - val_accuracy: 0.7489\n",
      "Epoch 8/30\n",
      "50000/50000 [==============================] - 2s 41us/sample - loss: 0.6991 - accuracy: 0.7549 - val_loss: 0.7107 - val_accuracy: 0.7520\n",
      "Epoch 9/30\n",
      "50000/50000 [==============================] - 2s 39us/sample - loss: 0.6933 - accuracy: 0.7571 - val_loss: 0.7050 - val_accuracy: 0.7558\n",
      "Epoch 10/30\n",
      "50000/50000 [==============================] - 2s 37us/sample - loss: 0.6876 - accuracy: 0.7594 - val_loss: 0.6995 - val_accuracy: 0.7573\n",
      "Epoch 11/30\n",
      "50000/50000 [==============================] - 2s 38us/sample - loss: 0.6821 - accuracy: 0.7610 - val_loss: 0.6942 - val_accuracy: 0.7596\n",
      "Epoch 12/30\n",
      "50000/50000 [==============================] - 2s 43us/sample - loss: 0.6768 - accuracy: 0.7634 - val_loss: 0.6889 - val_accuracy: 0.7604\n",
      "Epoch 13/30\n",
      "50000/50000 [==============================] - 2s 43us/sample - loss: 0.6716 - accuracy: 0.7646 - val_loss: 0.6839 - val_accuracy: 0.7638\n",
      "Epoch 14/30\n",
      "50000/50000 [==============================] - 2s 42us/sample - loss: 0.6666 - accuracy: 0.7683 - val_loss: 0.6789 - val_accuracy: 0.7647\n",
      "Epoch 15/30\n",
      "50000/50000 [==============================] - 2s 42us/sample - loss: 0.6617 - accuracy: 0.7696 - val_loss: 0.6741 - val_accuracy: 0.7671\n",
      "Epoch 16/30\n",
      "50000/50000 [==============================] - 2s 42us/sample - loss: 0.6570 - accuracy: 0.7725 - val_loss: 0.6695 - val_accuracy: 0.7696\n",
      "Epoch 17/30\n",
      "50000/50000 [==============================] - 2s 41us/sample - loss: 0.6524 - accuracy: 0.7741 - val_loss: 0.6651 - val_accuracy: 0.7709\n",
      "Epoch 18/30\n",
      "50000/50000 [==============================] - 2s 40us/sample - loss: 0.6479 - accuracy: 0.7752 - val_loss: 0.6605 - val_accuracy: 0.7741\n",
      "Epoch 19/30\n",
      "50000/50000 [==============================] - 2s 40us/sample - loss: 0.6435 - accuracy: 0.7805 - val_loss: 0.6562 - val_accuracy: 0.7727\n",
      "Epoch 20/30\n",
      "50000/50000 [==============================] - 2s 42us/sample - loss: 0.6392 - accuracy: 0.7803 - val_loss: 0.6519 - val_accuracy: 0.7760\n",
      "Epoch 21/30\n",
      "50000/50000 [==============================] - 2s 43us/sample - loss: 0.6350 - accuracy: 0.7817 - val_loss: 0.6477 - val_accuracy: 0.7789\n",
      "Epoch 22/30\n",
      "50000/50000 [==============================] - 2s 41us/sample - loss: 0.6308 - accuracy: 0.7840 - val_loss: 0.6439 - val_accuracy: 0.7806\n",
      "Epoch 23/30\n",
      "50000/50000 [==============================] - 2s 43us/sample - loss: 0.6267 - accuracy: 0.7856 - val_loss: 0.6395 - val_accuracy: 0.7829\n",
      "Epoch 24/30\n",
      "50000/50000 [==============================] - 2s 40us/sample - loss: 0.6227 - accuracy: 0.7871 - val_loss: 0.6357 - val_accuracy: 0.7844\n",
      "Epoch 25/30\n",
      "50000/50000 [==============================] - 2s 40us/sample - loss: 0.6187 - accuracy: 0.7883 - val_loss: 0.6317 - val_accuracy: 0.7868\n",
      "Epoch 26/30\n",
      "50000/50000 [==============================] - 2s 41us/sample - loss: 0.6148 - accuracy: 0.7912 - val_loss: 0.6279 - val_accuracy: 0.7882\n",
      "Epoch 27/30\n",
      "50000/50000 [==============================] - 2s 46us/sample - loss: 0.6110 - accuracy: 0.7930 - val_loss: 0.6240 - val_accuracy: 0.7885\n",
      "Epoch 28/30\n",
      "50000/50000 [==============================] - 2s 46us/sample - loss: 0.6072 - accuracy: 0.7940 - val_loss: 0.6203 - val_accuracy: 0.7915\n",
      "Epoch 29/30\n",
      "50000/50000 [==============================] - 2s 43us/sample - loss: 0.6035 - accuracy: 0.7967 - val_loss: 0.6167 - val_accuracy: 0.7920\n",
      "Epoch 30/30\n",
      "50000/50000 [==============================] - 2s 44us/sample - loss: 0.5998 - accuracy: 0.7973 - val_loss: 0.6131 - val_accuracy: 0.7956\n"
     ]
    }
   ],
   "source": [
    "history=model.fit(x_train, y_train, \n",
    "                  epochs=num_epochs, batch_size=batch_size,\n",
    "                  verbose=1, validation_data=(x_val, y_val))"
   ]
  },
  {
   "cell_type": "markdown",
   "metadata": {
    "colab_type": "text",
    "id": "SB-RmPa8L1Jo"
   },
   "source": [
    "### Monitoring the loss function and model accuracy during training\n",
    "\n",
    "\"[Loss functions] are a window to your model's heart\" - A. Karpathy https://lossfunctions.tumblr.com/"
   ]
  },
  {
   "cell_type": "code",
   "execution_count": 5,
   "metadata": {
    "colab": {},
    "colab_type": "code",
    "id": "f7uC3k9wMKgr",
    "scrolled": true
   },
   "outputs": [
    {
     "data": {
      "image/png": "[encoded data removed]",
      "text/plain": [
       "<Figure size 432x288 with 1 Axes>"
      ]
     },
     "metadata": {
      "needs_background": "light"
     },
     "output_type": "display_data"
    },
    {
     "data": {
      "image/png": "[encoded data removed]",
      "text/plain": [
       "<Figure size 432x288 with 1 Axes>"
      ]
     },
     "metadata": {
      "needs_background": "light"
     },
     "output_type": "display_data"
    }
   ],
   "source": [
    "# Training history\n",
    "import matplotlib.pyplot as plt\n",
    "plt.plot(history.history['accuracy'])\n",
    "plt.plot(history.history['val_accuracy'])\n",
    "plt.title('Single hidden layer with {} neurons'.format(n_hidden))\n",
    "plt.ylabel('accuracy')\n",
    "plt.xlabel('epoch')\n",
    "plt.legend(['train', 'validation'])\n",
    "plt.show()\n",
    "\n",
    "plt.plot(history.history['loss'])\n",
    "plt.plot(history.history['val_loss'])\n",
    "plt.ylabel('loss')\n",
    "plt.xlabel('epoch')\n",
    "plt.legend(['train', 'validation'])\n",
    "plt.show()"
   ]
  },
  {
   "cell_type": "markdown",
   "metadata": {
    "colab_type": "text",
    "id": "73qrLxCCO5da"
   },
   "source": [
    "### A network with two hidden layers and ReLU activations"
   ]
  },
  {
   "cell_type": "code",
   "execution_count": 6,
   "metadata": {
    "colab": {},
    "colab_type": "code",
    "id": "kXCGUhtcO0Qw"
   },
   "outputs": [
    {
     "name": "stdout",
     "output_type": "stream",
     "text": [
      "Model: \"sequential_1\"\n",
      "_________________________________________________________________\n",
      "Layer (type)                 Output Shape              Param #   \n",
      "=================================================================\n",
      "dense_2 (Dense)              (None, 512)               401920    \n",
      "_________________________________________________________________\n",
      "dropout (Dropout)            (None, 512)               0         \n",
      "_________________________________________________________________\n",
      "dense_3 (Dense)              (None, 512)               262656    \n",
      "_________________________________________________________________\n",
      "dropout_1 (Dropout)          (None, 512)               0         \n",
      "_________________________________________________________________\n",
      "dense_4 (Dense)              (None, 10)                5130      \n",
      "=================================================================\n",
      "Total params: 669,706\n",
      "Trainable params: 669,706\n",
      "Non-trainable params: 0\n",
      "_________________________________________________________________\n",
      "Train on 50000 samples, validate on 10000 samples\n",
      "Epoch 1/10\n",
      "50000/50000 [==============================] - 22s 434us/sample - loss: 0.5532 - accuracy: 0.7987 - val_loss: 0.4097 - val_accuracy: 0.8470\n",
      "Epoch 2/10\n",
      "50000/50000 [==============================] - 19s 374us/sample - loss: 0.4013 - accuracy: 0.8547 - val_loss: 0.3913 - val_accuracy: 0.8563\n",
      "Epoch 3/10\n",
      "50000/50000 [==============================] - 19s 379us/sample - loss: 0.3681 - accuracy: 0.8668 - val_loss: 0.3693 - val_accuracy: 0.8661\n",
      "Epoch 4/10\n",
      "50000/50000 [==============================] - 19s 377us/sample - loss: 0.3461 - accuracy: 0.8746 - val_loss: 0.3537 - val_accuracy: 0.8713\n",
      "Epoch 5/10\n",
      "50000/50000 [==============================] - 21s 412us/sample - loss: 0.3339 - accuracy: 0.8805 - val_loss: 0.3876 - val_accuracy: 0.8650\n",
      "Epoch 6/10\n",
      "50000/50000 [==============================] - 18s 370us/sample - loss: 0.3263 - accuracy: 0.8847 - val_loss: 0.3616 - val_accuracy: 0.8789\n",
      "Epoch 7/10\n",
      "50000/50000 [==============================] - 17s 345us/sample - loss: 0.3191 - accuracy: 0.8866 - val_loss: 0.3969 - val_accuracy: 0.8783\n",
      "Epoch 8/10\n",
      "50000/50000 [==============================] - 17s 343us/sample - loss: 0.3125 - accuracy: 0.8903 - val_loss: 0.3660 - val_accuracy: 0.8839\n",
      "Epoch 9/10\n",
      "50000/50000 [==============================] - 17s 345us/sample - loss: 0.3054 - accuracy: 0.8912 - val_loss: 0.3616 - val_accuracy: 0.8854\n",
      "Epoch 10/10\n",
      "50000/50000 [==============================] - 17s 346us/sample - loss: 0.2982 - accuracy: 0.8949 - val_loss: 0.3930 - val_accuracy: 0.8792\n",
      "Test loss: 0.4380626491546631\n",
      "Test accuracy: 0.8731\n"
     ]
    }
   ],
   "source": [
    "from tensorflow.keras.layers import Dropout\n",
    "from tensorflow.keras.optimizers import RMSprop\n",
    "\n",
    "batch_size = 128\n",
    "num_epochs = 10\n",
    "n_hidden = 512\n",
    "\n",
    "model = Sequential()\n",
    "model.add(Dense(n_hidden, activation='relu', input_dim=x_train.shape[1]))\n",
    "model.add(Dropout(0.2)) # Dropout regularization\n",
    "model.add(Dense(n_hidden, activation='relu'))\n",
    "model.add(Dropout(0.2))\n",
    "model.add(Dense(num_classes, activation='softmax'))\n",
    "\n",
    "model.summary()\n",
    "\n",
    "model.compile(loss='sparse_categorical_crossentropy',\n",
    "              optimizer=RMSprop(),\n",
    "              metrics=['accuracy'])\n",
    "\n",
    "history = model.fit(x_train, y_train,\n",
    "                    batch_size=batch_size,\n",
    "                    epochs=num_epochs,\n",
    "                    verbose=1,\n",
    "                    validation_data=(x_val, y_val))\n",
    "score = model.evaluate(x_test, y_test, verbose=0)\n",
    "print('Test loss:', score[0])\n",
    "print('Test accuracy:', score[1])"
   ]
  },
  {
   "cell_type": "markdown",
   "metadata": {
    "colab_type": "text",
    "id": "MM9x-irpQUAd"
   },
   "source": [
    "### Corresponding loss and accuracy values"
   ]
  },
  {
   "cell_type": "code",
   "execution_count": 7,
   "metadata": {
    "colab": {},
    "colab_type": "code",
    "id": "o7r27qILQTml"
   },
   "outputs": [
    {
     "data": {
      "image/png": "[encoded data removed]",
      "text/plain": [
       "<Figure size 432x288 with 1 Axes>"
      ]
     },
     "metadata": {
      "needs_background": "light"
     },
     "output_type": "display_data"
    },
    {
     "data": {
      "image/png": "[encoded data removed]",
      "text/plain": [
       "<Figure size 432x288 with 1 Axes>"
      ]
     },
     "metadata": {
      "needs_background": "light"
     },
     "output_type": "display_data"
    }
   ],
   "source": [
    "# Training history\n",
    "import matplotlib.pyplot as plt\n",
    "plt.plot(history.history['accuracy'])\n",
    "plt.plot(history.history['val_accuracy'])\n",
    "plt.title('Single hidden layer with {} neurons'.format(n_hidden))\n",
    "plt.ylabel('accuracy')\n",
    "plt.xlabel('epoch')\n",
    "plt.legend(['train', 'validation'])\n",
    "plt.show()\n",
    "\n",
    "plt.plot(history.history['loss'])\n",
    "plt.plot(history.history['val_loss'])\n",
    "plt.ylabel('loss')\n",
    "plt.xlabel('epoch')\n",
    "plt.legend(['train', 'validation'])\n",
    "plt.show()"
   ]
  },
  {
   "cell_type": "markdown",
   "metadata": {},
   "source": [
    "## Convolutional neural networks (CNNs)\n",
    "\n",
    "CNNs are specialized neural networks for the image processing. They were originally designed for classification but are now used in many image processing tasks.\n",
    "\n",
    "NB This particular network is not super accurate. With sufficient training it acheives around 90% accuracy. Human accuracy is around 84% (non fashion experts). More sophisticated networks achieve more than 96% accuracy."
   ]
  },
  {
   "cell_type": "code",
   "execution_count": 8,
   "metadata": {},
   "outputs": [
    {
     "name": "stdout",
     "output_type": "stream",
     "text": [
      "x_train shape: (50000, 28, 28, 1)\n",
      "50000 train samples\n",
      "10000 test samples\n",
      "Model: \"sequential_2\"\n",
      "_________________________________________________________________\n",
      "Layer (type)                 Output Shape              Param #   \n",
      "=================================================================\n",
      "conv2d (Conv2D)              (None, 26, 26, 32)        320       \n",
      "_________________________________________________________________\n",
      "conv2d_1 (Conv2D)            (None, 24, 24, 64)        18496     \n",
      "_________________________________________________________________\n",
      "max_pooling2d (MaxPooling2D) (None, 12, 12, 64)        0         \n",
      "_________________________________________________________________\n",
      "flatten (Flatten)            (None, 9216)              0         \n",
      "_________________________________________________________________\n",
      "dense_5 (Dense)              (None, 128)               1179776   \n",
      "_________________________________________________________________\n",
      "dropout_2 (Dropout)          (None, 128)               0         \n",
      "_________________________________________________________________\n",
      "dense_6 (Dense)              (None, 10)                1290      \n",
      "=================================================================\n",
      "Total params: 1,199,882\n",
      "Trainable params: 1,199,882\n",
      "Non-trainable params: 0\n",
      "_________________________________________________________________\n",
      "Train on 50000 samples, validate on 10000 samples\n",
      "Epoch 1/10\n",
      "23680/50000 [=============>................] - ETA: 1:42 - loss: 2.2754 - accuracy: 0.1416"
     ]
    },
    {
     "ename": "KeyboardInterrupt",
     "evalue": "",
     "output_type": "error",
     "traceback": [
      "\u001b[1;31m---------------------------------------------------------------------------\u001b[0m",
      "\u001b[1;31mKeyboardInterrupt\u001b[0m                         Traceback (most recent call last)",
      "\u001b[1;32m<ipython-input-8-1b0c34cca370>\u001b[0m in \u001b[0;36m<module>\u001b[1;34m\u001b[0m\n\u001b[0;32m     43\u001b[0m                   \u001b[0mepochs\u001b[0m\u001b[1;33m=\u001b[0m\u001b[0mnum_epochs\u001b[0m\u001b[1;33m,\u001b[0m\u001b[1;33m\u001b[0m\u001b[1;33m\u001b[0m\u001b[0m\n\u001b[0;32m     44\u001b[0m                   \u001b[0mverbose\u001b[0m\u001b[1;33m=\u001b[0m\u001b[1;36m1\u001b[0m\u001b[1;33m,\u001b[0m\u001b[1;33m\u001b[0m\u001b[1;33m\u001b[0m\u001b[0m\n\u001b[1;32m---> 45\u001b[1;33m                   validation_data=(x_val, y_val))\n\u001b[0m\u001b[0;32m     46\u001b[0m \u001b[0mscore\u001b[0m \u001b[1;33m=\u001b[0m \u001b[0mmodel\u001b[0m\u001b[1;33m.\u001b[0m\u001b[0mevaluate\u001b[0m\u001b[1;33m(\u001b[0m\u001b[0mx_test\u001b[0m\u001b[1;33m,\u001b[0m \u001b[0my_test\u001b[0m\u001b[1;33m,\u001b[0m \u001b[0mverbose\u001b[0m\u001b[1;33m=\u001b[0m\u001b[1;36m0\u001b[0m\u001b[1;33m)\u001b[0m\u001b[1;33m\u001b[0m\u001b[1;33m\u001b[0m\u001b[0m\n\u001b[0;32m     47\u001b[0m \u001b[0mprint\u001b[0m\u001b[1;33m(\u001b[0m\u001b[1;34m'Test loss:'\u001b[0m\u001b[1;33m,\u001b[0m \u001b[0mscore\u001b[0m\u001b[1;33m[\u001b[0m\u001b[1;36m0\u001b[0m\u001b[1;33m]\u001b[0m\u001b[1;33m)\u001b[0m\u001b[1;33m\u001b[0m\u001b[1;33m\u001b[0m\u001b[0m\n",
      "\u001b[1;32m~\\Anaconda3\\envs\\tf\\lib\\site-packages\\tensorflow_core\\python\\keras\\engine\\training.py\u001b[0m in \u001b[0;36mfit\u001b[1;34m(self, x, y, batch_size, epochs, verbose, callbacks, validation_split, validation_data, shuffle, class_weight, sample_weight, initial_epoch, steps_per_epoch, validation_steps, validation_freq, max_queue_size, workers, use_multiprocessing, **kwargs)\u001b[0m\n\u001b[0;32m    817\u001b[0m         \u001b[0mmax_queue_size\u001b[0m\u001b[1;33m=\u001b[0m\u001b[0mmax_queue_size\u001b[0m\u001b[1;33m,\u001b[0m\u001b[1;33m\u001b[0m\u001b[1;33m\u001b[0m\u001b[0m\n\u001b[0;32m    818\u001b[0m         \u001b[0mworkers\u001b[0m\u001b[1;33m=\u001b[0m\u001b[0mworkers\u001b[0m\u001b[1;33m,\u001b[0m\u001b[1;33m\u001b[0m\u001b[1;33m\u001b[0m\u001b[0m\n\u001b[1;32m--> 819\u001b[1;33m         use_multiprocessing=use_multiprocessing)\n\u001b[0m\u001b[0;32m    820\u001b[0m \u001b[1;33m\u001b[0m\u001b[0m\n\u001b[0;32m    821\u001b[0m   def evaluate(self,\n",
      "\u001b[1;32m~\\Anaconda3\\envs\\tf\\lib\\site-packages\\tensorflow_core\\python\\keras\\engine\\training_v2.py\u001b[0m in \u001b[0;36mfit\u001b[1;34m(self, model, x, y, batch_size, epochs, verbose, callbacks, validation_split, validation_data, shuffle, class_weight, sample_weight, initial_epoch, steps_per_epoch, validation_steps, validation_freq, max_queue_size, workers, use_multiprocessing, **kwargs)\u001b[0m\n\u001b[0;32m    340\u001b[0m                 \u001b[0mmode\u001b[0m\u001b[1;33m=\u001b[0m\u001b[0mModeKeys\u001b[0m\u001b[1;33m.\u001b[0m\u001b[0mTRAIN\u001b[0m\u001b[1;33m,\u001b[0m\u001b[1;33m\u001b[0m\u001b[1;33m\u001b[0m\u001b[0m\n\u001b[0;32m    341\u001b[0m                 \u001b[0mtraining_context\u001b[0m\u001b[1;33m=\u001b[0m\u001b[0mtraining_context\u001b[0m\u001b[1;33m,\u001b[0m\u001b[1;33m\u001b[0m\u001b[1;33m\u001b[0m\u001b[0m\n\u001b[1;32m--> 342\u001b[1;33m                 total_epochs=epochs)\n\u001b[0m\u001b[0;32m    343\u001b[0m             \u001b[0mcbks\u001b[0m\u001b[1;33m.\u001b[0m\u001b[0mmake_logs\u001b[0m\u001b[1;33m(\u001b[0m\u001b[0mmodel\u001b[0m\u001b[1;33m,\u001b[0m \u001b[0mepoch_logs\u001b[0m\u001b[1;33m,\u001b[0m \u001b[0mtraining_result\u001b[0m\u001b[1;33m,\u001b[0m \u001b[0mModeKeys\u001b[0m\u001b[1;33m.\u001b[0m\u001b[0mTRAIN\u001b[0m\u001b[1;33m)\u001b[0m\u001b[1;33m\u001b[0m\u001b[1;33m\u001b[0m\u001b[0m\n\u001b[0;32m    344\u001b[0m \u001b[1;33m\u001b[0m\u001b[0m\n",
      "\u001b[1;32m~\\Anaconda3\\envs\\tf\\lib\\site-packages\\tensorflow_core\\python\\keras\\engine\\training_v2.py\u001b[0m in \u001b[0;36mrun_one_epoch\u001b[1;34m(model, iterator, execution_function, dataset_size, batch_size, strategy, steps_per_epoch, num_samples, mode, training_context, total_epochs)\u001b[0m\n\u001b[0;32m    126\u001b[0m         step=step, mode=mode, size=current_batch_size) as batch_logs:\n\u001b[0;32m    127\u001b[0m       \u001b[1;32mtry\u001b[0m\u001b[1;33m:\u001b[0m\u001b[1;33m\u001b[0m\u001b[1;33m\u001b[0m\u001b[0m\n\u001b[1;32m--> 128\u001b[1;33m         \u001b[0mbatch_outs\u001b[0m \u001b[1;33m=\u001b[0m \u001b[0mexecution_function\u001b[0m\u001b[1;33m(\u001b[0m\u001b[0miterator\u001b[0m\u001b[1;33m)\u001b[0m\u001b[1;33m\u001b[0m\u001b[1;33m\u001b[0m\u001b[0m\n\u001b[0m\u001b[0;32m    129\u001b[0m       \u001b[1;32mexcept\u001b[0m \u001b[1;33m(\u001b[0m\u001b[0mStopIteration\u001b[0m\u001b[1;33m,\u001b[0m \u001b[0merrors\u001b[0m\u001b[1;33m.\u001b[0m\u001b[0mOutOfRangeError\u001b[0m\u001b[1;33m)\u001b[0m\u001b[1;33m:\u001b[0m\u001b[1;33m\u001b[0m\u001b[1;33m\u001b[0m\u001b[0m\n\u001b[0;32m    130\u001b[0m         \u001b[1;31m# TODO(kaftan): File bug about tf function and errors.OutOfRangeError?\u001b[0m\u001b[1;33m\u001b[0m\u001b[1;33m\u001b[0m\u001b[1;33m\u001b[0m\u001b[0m\n",
      "\u001b[1;32m~\\Anaconda3\\envs\\tf\\lib\\site-packages\\tensorflow_core\\python\\keras\\engine\\training_v2_utils.py\u001b[0m in \u001b[0;36mexecution_function\u001b[1;34m(input_fn)\u001b[0m\n\u001b[0;32m     96\u001b[0m     \u001b[1;31m# `numpy` translates Tensors to values in Eager mode.\u001b[0m\u001b[1;33m\u001b[0m\u001b[1;33m\u001b[0m\u001b[1;33m\u001b[0m\u001b[0m\n\u001b[0;32m     97\u001b[0m     return nest.map_structure(_non_none_constant_value,\n\u001b[1;32m---> 98\u001b[1;33m                               distributed_function(input_fn))\n\u001b[0m\u001b[0;32m     99\u001b[0m \u001b[1;33m\u001b[0m\u001b[0m\n\u001b[0;32m    100\u001b[0m   \u001b[1;32mreturn\u001b[0m \u001b[0mexecution_function\u001b[0m\u001b[1;33m\u001b[0m\u001b[1;33m\u001b[0m\u001b[0m\n",
      "\u001b[1;32m~\\Anaconda3\\envs\\tf\\lib\\site-packages\\tensorflow_core\\python\\eager\\def_function.py\u001b[0m in \u001b[0;36m__call__\u001b[1;34m(self, *args, **kwds)\u001b[0m\n\u001b[0;32m    566\u001b[0m         \u001b[0mxla_context\u001b[0m\u001b[1;33m.\u001b[0m\u001b[0mExit\u001b[0m\u001b[1;33m(\u001b[0m\u001b[1;33m)\u001b[0m\u001b[1;33m\u001b[0m\u001b[1;33m\u001b[0m\u001b[0m\n\u001b[0;32m    567\u001b[0m     \u001b[1;32melse\u001b[0m\u001b[1;33m:\u001b[0m\u001b[1;33m\u001b[0m\u001b[1;33m\u001b[0m\u001b[0m\n\u001b[1;32m--> 568\u001b[1;33m       \u001b[0mresult\u001b[0m \u001b[1;33m=\u001b[0m \u001b[0mself\u001b[0m\u001b[1;33m.\u001b[0m\u001b[0m_call\u001b[0m\u001b[1;33m(\u001b[0m\u001b[1;33m*\u001b[0m\u001b[0margs\u001b[0m\u001b[1;33m,\u001b[0m \u001b[1;33m**\u001b[0m\u001b[0mkwds\u001b[0m\u001b[1;33m)\u001b[0m\u001b[1;33m\u001b[0m\u001b[1;33m\u001b[0m\u001b[0m\n\u001b[0m\u001b[0;32m    569\u001b[0m \u001b[1;33m\u001b[0m\u001b[0m\n\u001b[0;32m    570\u001b[0m     \u001b[1;32mif\u001b[0m \u001b[0mtracing_count\u001b[0m \u001b[1;33m==\u001b[0m \u001b[0mself\u001b[0m\u001b[1;33m.\u001b[0m\u001b[0m_get_tracing_count\u001b[0m\u001b[1;33m(\u001b[0m\u001b[1;33m)\u001b[0m\u001b[1;33m:\u001b[0m\u001b[1;33m\u001b[0m\u001b[1;33m\u001b[0m\u001b[0m\n",
      "\u001b[1;32m~\\Anaconda3\\envs\\tf\\lib\\site-packages\\tensorflow_core\\python\\eager\\def_function.py\u001b[0m in \u001b[0;36m_call\u001b[1;34m(self, *args, **kwds)\u001b[0m\n\u001b[0;32m    597\u001b[0m       \u001b[1;31m# In this case we have created variables on the first call, so we run the\u001b[0m\u001b[1;33m\u001b[0m\u001b[1;33m\u001b[0m\u001b[1;33m\u001b[0m\u001b[0m\n\u001b[0;32m    598\u001b[0m       \u001b[1;31m# defunned version which is guaranteed to never create variables.\u001b[0m\u001b[1;33m\u001b[0m\u001b[1;33m\u001b[0m\u001b[1;33m\u001b[0m\u001b[0m\n\u001b[1;32m--> 599\u001b[1;33m       \u001b[1;32mreturn\u001b[0m \u001b[0mself\u001b[0m\u001b[1;33m.\u001b[0m\u001b[0m_stateless_fn\u001b[0m\u001b[1;33m(\u001b[0m\u001b[1;33m*\u001b[0m\u001b[0margs\u001b[0m\u001b[1;33m,\u001b[0m \u001b[1;33m**\u001b[0m\u001b[0mkwds\u001b[0m\u001b[1;33m)\u001b[0m  \u001b[1;31m# pylint: disable=not-callable\u001b[0m\u001b[1;33m\u001b[0m\u001b[1;33m\u001b[0m\u001b[0m\n\u001b[0m\u001b[0;32m    600\u001b[0m     \u001b[1;32melif\u001b[0m \u001b[0mself\u001b[0m\u001b[1;33m.\u001b[0m\u001b[0m_stateful_fn\u001b[0m \u001b[1;32mis\u001b[0m \u001b[1;32mnot\u001b[0m \u001b[1;32mNone\u001b[0m\u001b[1;33m:\u001b[0m\u001b[1;33m\u001b[0m\u001b[1;33m\u001b[0m\u001b[0m\n\u001b[0;32m    601\u001b[0m       \u001b[1;31m# Release the lock early so that multiple threads can perform the call\u001b[0m\u001b[1;33m\u001b[0m\u001b[1;33m\u001b[0m\u001b[1;33m\u001b[0m\u001b[0m\n",
      "\u001b[1;32m~\\Anaconda3\\envs\\tf\\lib\\site-packages\\tensorflow_core\\python\\eager\\function.py\u001b[0m in \u001b[0;36m__call__\u001b[1;34m(self, *args, **kwargs)\u001b[0m\n\u001b[0;32m   2361\u001b[0m     \u001b[1;32mwith\u001b[0m \u001b[0mself\u001b[0m\u001b[1;33m.\u001b[0m\u001b[0m_lock\u001b[0m\u001b[1;33m:\u001b[0m\u001b[1;33m\u001b[0m\u001b[1;33m\u001b[0m\u001b[0m\n\u001b[0;32m   2362\u001b[0m       \u001b[0mgraph_function\u001b[0m\u001b[1;33m,\u001b[0m \u001b[0margs\u001b[0m\u001b[1;33m,\u001b[0m \u001b[0mkwargs\u001b[0m \u001b[1;33m=\u001b[0m \u001b[0mself\u001b[0m\u001b[1;33m.\u001b[0m\u001b[0m_maybe_define_function\u001b[0m\u001b[1;33m(\u001b[0m\u001b[0margs\u001b[0m\u001b[1;33m,\u001b[0m \u001b[0mkwargs\u001b[0m\u001b[1;33m)\u001b[0m\u001b[1;33m\u001b[0m\u001b[1;33m\u001b[0m\u001b[0m\n\u001b[1;32m-> 2363\u001b[1;33m     \u001b[1;32mreturn\u001b[0m \u001b[0mgraph_function\u001b[0m\u001b[1;33m.\u001b[0m\u001b[0m_filtered_call\u001b[0m\u001b[1;33m(\u001b[0m\u001b[0margs\u001b[0m\u001b[1;33m,\u001b[0m \u001b[0mkwargs\u001b[0m\u001b[1;33m)\u001b[0m  \u001b[1;31m# pylint: disable=protected-access\u001b[0m\u001b[1;33m\u001b[0m\u001b[1;33m\u001b[0m\u001b[0m\n\u001b[0m\u001b[0;32m   2364\u001b[0m \u001b[1;33m\u001b[0m\u001b[0m\n\u001b[0;32m   2365\u001b[0m   \u001b[1;33m@\u001b[0m\u001b[0mproperty\u001b[0m\u001b[1;33m\u001b[0m\u001b[1;33m\u001b[0m\u001b[0m\n",
      "\u001b[1;32m~\\Anaconda3\\envs\\tf\\lib\\site-packages\\tensorflow_core\\python\\eager\\function.py\u001b[0m in \u001b[0;36m_filtered_call\u001b[1;34m(self, args, kwargs)\u001b[0m\n\u001b[0;32m   1609\u001b[0m          if isinstance(t, (ops.Tensor,\n\u001b[0;32m   1610\u001b[0m                            resource_variable_ops.BaseResourceVariable))),\n\u001b[1;32m-> 1611\u001b[1;33m         self.captured_inputs)\n\u001b[0m\u001b[0;32m   1612\u001b[0m \u001b[1;33m\u001b[0m\u001b[0m\n\u001b[0;32m   1613\u001b[0m   \u001b[1;32mdef\u001b[0m \u001b[0m_call_flat\u001b[0m\u001b[1;33m(\u001b[0m\u001b[0mself\u001b[0m\u001b[1;33m,\u001b[0m \u001b[0margs\u001b[0m\u001b[1;33m,\u001b[0m \u001b[0mcaptured_inputs\u001b[0m\u001b[1;33m,\u001b[0m \u001b[0mcancellation_manager\u001b[0m\u001b[1;33m=\u001b[0m\u001b[1;32mNone\u001b[0m\u001b[1;33m)\u001b[0m\u001b[1;33m:\u001b[0m\u001b[1;33m\u001b[0m\u001b[1;33m\u001b[0m\u001b[0m\n",
      "\u001b[1;32m~\\Anaconda3\\envs\\tf\\lib\\site-packages\\tensorflow_core\\python\\eager\\function.py\u001b[0m in \u001b[0;36m_call_flat\u001b[1;34m(self, args, captured_inputs, cancellation_manager)\u001b[0m\n\u001b[0;32m   1690\u001b[0m       \u001b[1;31m# No tape is watching; skip to running the function.\u001b[0m\u001b[1;33m\u001b[0m\u001b[1;33m\u001b[0m\u001b[1;33m\u001b[0m\u001b[0m\n\u001b[0;32m   1691\u001b[0m       return self._build_call_outputs(self._inference_function.call(\n\u001b[1;32m-> 1692\u001b[1;33m           ctx, args, cancellation_manager=cancellation_manager))\n\u001b[0m\u001b[0;32m   1693\u001b[0m     forward_backward = self._select_forward_and_backward_functions(\n\u001b[0;32m   1694\u001b[0m         \u001b[0margs\u001b[0m\u001b[1;33m,\u001b[0m\u001b[1;33m\u001b[0m\u001b[1;33m\u001b[0m\u001b[0m\n",
      "\u001b[1;32m~\\Anaconda3\\envs\\tf\\lib\\site-packages\\tensorflow_core\\python\\eager\\function.py\u001b[0m in \u001b[0;36mcall\u001b[1;34m(self, ctx, args, cancellation_manager)\u001b[0m\n\u001b[0;32m    543\u001b[0m               \u001b[0minputs\u001b[0m\u001b[1;33m=\u001b[0m\u001b[0margs\u001b[0m\u001b[1;33m,\u001b[0m\u001b[1;33m\u001b[0m\u001b[1;33m\u001b[0m\u001b[0m\n\u001b[0;32m    544\u001b[0m               \u001b[0mattrs\u001b[0m\u001b[1;33m=\u001b[0m\u001b[1;33m(\u001b[0m\u001b[1;34m\"executor_type\"\u001b[0m\u001b[1;33m,\u001b[0m \u001b[0mexecutor_type\u001b[0m\u001b[1;33m,\u001b[0m \u001b[1;34m\"config_proto\"\u001b[0m\u001b[1;33m,\u001b[0m \u001b[0mconfig\u001b[0m\u001b[1;33m)\u001b[0m\u001b[1;33m,\u001b[0m\u001b[1;33m\u001b[0m\u001b[1;33m\u001b[0m\u001b[0m\n\u001b[1;32m--> 545\u001b[1;33m               ctx=ctx)\n\u001b[0m\u001b[0;32m    546\u001b[0m         \u001b[1;32melse\u001b[0m\u001b[1;33m:\u001b[0m\u001b[1;33m\u001b[0m\u001b[1;33m\u001b[0m\u001b[0m\n\u001b[0;32m    547\u001b[0m           outputs = execute.execute_with_cancellation(\n",
      "\u001b[1;32m~\\Anaconda3\\envs\\tf\\lib\\site-packages\\tensorflow_core\\python\\eager\\execute.py\u001b[0m in \u001b[0;36mquick_execute\u001b[1;34m(op_name, num_outputs, inputs, attrs, ctx, name)\u001b[0m\n\u001b[0;32m     59\u001b[0m     tensors = pywrap_tensorflow.TFE_Py_Execute(ctx._handle, device_name,\n\u001b[0;32m     60\u001b[0m                                                \u001b[0mop_name\u001b[0m\u001b[1;33m,\u001b[0m \u001b[0minputs\u001b[0m\u001b[1;33m,\u001b[0m \u001b[0mattrs\u001b[0m\u001b[1;33m,\u001b[0m\u001b[1;33m\u001b[0m\u001b[1;33m\u001b[0m\u001b[0m\n\u001b[1;32m---> 61\u001b[1;33m                                                num_outputs)\n\u001b[0m\u001b[0;32m     62\u001b[0m   \u001b[1;32mexcept\u001b[0m \u001b[0mcore\u001b[0m\u001b[1;33m.\u001b[0m\u001b[0m_NotOkStatusException\u001b[0m \u001b[1;32mas\u001b[0m \u001b[0me\u001b[0m\u001b[1;33m:\u001b[0m\u001b[1;33m\u001b[0m\u001b[1;33m\u001b[0m\u001b[0m\n\u001b[0;32m     63\u001b[0m     \u001b[1;32mif\u001b[0m \u001b[0mname\u001b[0m \u001b[1;32mis\u001b[0m \u001b[1;32mnot\u001b[0m \u001b[1;32mNone\u001b[0m\u001b[1;33m:\u001b[0m\u001b[1;33m\u001b[0m\u001b[1;33m\u001b[0m\u001b[0m\n",
      "\u001b[1;31mKeyboardInterrupt\u001b[0m: "
     ]
    }
   ],
   "source": [
    "from tensorflow.keras.models import Sequential\n",
    "from tensorflow.keras.layers import Dropout\n",
    "from tensorflow.keras.layers import Dense\n",
    "from tensorflow.keras.layers import Flatten\n",
    "from tensorflow.keras.layers import Conv2D, MaxPooling2D\n",
    "from tensorflow.keras.optimizers import Adadelta\n",
    "\n",
    "num_epochs = 10 # Increase to get improved accuracy\n",
    "batch_size = 128\n",
    "num_classes = 10\n",
    "img_rows, img_cols = 28, 28 # input image dimensions\n",
    "\n",
    "# Reshape, the 4th axis is the color band, here we have only one\n",
    "# band since the images are grayscale\n",
    "x_train = x_train.reshape(x_train.shape[0], img_rows, img_cols, 1)\n",
    "x_val = x_val.reshape(x_val.shape[0], img_rows, img_cols, 1)\n",
    "x_test = x_test.reshape(x_test.shape[0], img_rows, img_cols, 1)\n",
    "input_shape = (img_rows, img_cols, 1)\n",
    "\n",
    "print('x_train shape:', x_train.shape)\n",
    "print(x_train.shape[0], 'train samples')\n",
    "print(x_test.shape[0], 'test samples')\n",
    "\n",
    "model = Sequential()\n",
    "model.add(Conv2D(32, kernel_size=(3, 3),\n",
    "                 activation='relu',\n",
    "                 input_shape=input_shape))\n",
    "model.add(Conv2D(64, (3, 3), activation='relu'))\n",
    "model.add(MaxPooling2D(pool_size=(2, 2)))\n",
    "model.add(Flatten())\n",
    "model.add(Dense(128, activation='relu')) # Dense layer at the end\n",
    "model.add(Dropout(0.5)) # Dropout in the final layer\n",
    "model.add(Dense(num_classes, activation='softmax'))\n",
    "\n",
    "model.summary()\n",
    "\n",
    "model.compile(loss='sparse_categorical_crossentropy',\n",
    "              optimizer=Adadelta(),\n",
    "              metrics=['accuracy'])\n",
    "\n",
    "history=model.fit(x_train, y_train,\n",
    "                  batch_size=batch_size,\n",
    "                  epochs=num_epochs,\n",
    "                  verbose=1,\n",
    "                  validation_data=(x_val, y_val))\n",
    "score = model.evaluate(x_test, y_test, verbose=0)\n",
    "print('Test loss:', score[0])\n",
    "print('Test accuracy:', score[1])"
   ]
  },
  {
   "cell_type": "markdown",
   "metadata": {},
   "source": [
    "If you are using Google Colab, go to Runtime/Change runtime type. Select \"GPU\" and run the above code again. You should notice a significant speedup. Increase the number of epochs to improve accuracy."
   ]
  },
  {
   "cell_type": "markdown",
   "metadata": {},
   "source": [
    "### Loss and accuracy during training"
   ]
  },
  {
   "cell_type": "code",
   "execution_count": null,
   "metadata": {},
   "outputs": [],
   "source": [
    "# Visualize training history\n",
    "import matplotlib.pyplot as plt\n",
    "plt.plot(history.history['accuracy'])\n",
    "plt.plot(history.history['val_accuracy'])\n",
    "plt.ylabel('accuracy')\n",
    "plt.xlabel('epoch')\n",
    "plt.title('Convolutional neural network')\n",
    "plt.legend(['train', 'validation'])\n",
    "plt.show()\n",
    "\n",
    "plt.plot(history.history['loss'])\n",
    "plt.plot(history.history['val_loss'])\n",
    "plt.ylabel('loss')\n",
    "plt.xlabel('epoch')\n",
    "plt.legend(['train', 'validation'])\n",
    "plt.show()"
   ]
  }
 ],
 "metadata": {
  "colab": {
   "collapsed_sections": [],
   "name": "vika10_nn_keras.ipynb",
   "provenance": []
  },
  "kernelspec": {
   "display_name": "Python 3",
   "language": "python",
   "name": "python3"
  },
  "language_info": {
   "codemirror_mode": {
    "name": "ipython",
    "version": 3
   },
   "file_extension": ".py",
   "mimetype": "text/x-python",
   "name": "python",
   "nbconvert_exporter": "python",
   "pygments_lexer": "ipython3",
   "version": "3.7.7"
  }
 },
 "nbformat": 4,
 "nbformat_minor": 1
}
