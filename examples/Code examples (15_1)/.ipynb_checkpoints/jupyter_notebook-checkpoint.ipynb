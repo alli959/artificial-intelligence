{
 "cells": [
  {
   "cell_type": "markdown",
   "metadata": {},
   "source": [
    "# Code examples (week 1)\n",
    "\n",
    "Topics:\n",
    "* Gradient descent (a.k.a. steepest descent)\n",
    "* Linear regression via the normal equations\n",
    "* Linear regression via stochastic gradient descent\n",
    "* Polynomial regression with the scikit-learn package\n",
    "* Regularized regression"
   ]
  },
  {
   "cell_type": "markdown",
   "metadata": {},
   "source": [
    "Minimize the function $f(\\theta_0,\\theta_1) = 4 \\theta_0^2 - 4 \\theta_0 \\theta_1 + 3 \\theta_1^2$ using steepest descent.\n",
    "\n",
    "The gradient of $f$ is $\\nabla f(\\theta) = (8 \\theta_0 - 4 \\theta_1, -4 \\theta_0 + 6 \\theta_1)$."
   ]
  },
  {
   "cell_type": "code",
   "execution_count": null,
   "metadata": {},
   "outputs": [],
   "source": [
    "import numpy as np\n",
    "\n",
    "np.set_printoptions(suppress=True, precision=4)\n",
    "\n",
    "alpha = 0.1 # Step length (may need to adjust)\n",
    "maxiter = 20\n",
    "\n",
    "dt = np.zeros(2) # Define a vector with 2 elements to hold the gradient\n",
    "t = np.array([1,1]) # Starting point\n",
    "\n",
    "for iter in range(0,maxiter):\n",
    "    # Gradient\n",
    "    dt[0] = 8*t[0] - 4*t[1]\n",
    "    dt[1] = -4*t[0] + 6*t[1]\n",
    "    \n",
    "    # Updating step\n",
    "    t = t - alpha*dt\n",
    "    print(t)"
   ]
  },
  {
   "cell_type": "markdown",
   "metadata": {},
   "source": [
    "### Linear regression \n",
    "\n",
    "This example shows how to read a small dataset from a text file (in csv format) and perform simple visualization using matplotlib.\n",
    "\n",
    "There are many ways to load data from files in Python, e.g. csvReader and Pandas. Here we use numpy.genfromtxt which is fairly basic but can often be used to get the job done."
   ]
  },
  {
   "cell_type": "code",
   "execution_count": null,
   "metadata": {},
   "outputs": [],
   "source": [
    "import numpy as np\n",
    "import matplotlib.pyplot as plt\n",
    "\n",
    "data=np.genfromtxt('data/linear_reg.csv', delimiter=',', skip_header=1) # Columns: x, y\n",
    "print(data.shape) # Sanity check\n",
    "n=data.shape[0]\n",
    "\n",
    "# Construct data matrix for linear regression\n",
    "# Model: y= θ_0 + θ_1*x_1 + ... + θ_p*x_p\n",
    "y=data[:,-1] # Output variable is in the last column in this file\n",
    "\n",
    "# Insert a column of ones (intercept term)\n",
    "X=np.c_[np.ones(n), data[:,0:-1]] # Include all columns from 'data' except the last\n",
    "\n",
    "# Plot the data\n",
    "plt.scatter(X[:,1],y)\n",
    "plt.xlabel('X')\n",
    "plt.ylabel('Y')\n",
    "plt.show()"
   ]
  },
  {
   "cell_type": "code",
   "execution_count": null,
   "metadata": {},
   "outputs": [],
   "source": [
    "# Obtain the regression coefficients by solving the \"normal equations\", X'Xθ = X'y, directly\n",
    "# This is the traditional way of solving least squares problems (\"exact\" solution)\n",
    "theta_ex = np.linalg.solve(X.T.dot(X), X.T.dot(y))\n",
    "print('Exact solution: theta=', theta_ex)"
   ]
  },
  {
   "cell_type": "markdown",
   "metadata": {},
   "source": [
    "### Stochastic gradient descent (SGD)\n",
    "This example shows how the SGD algorithm can be used to find solutions to linear least squares problems.\n",
    "\n",
    "NB This is a very primitive implementation of SGD."
   ]
  },
  {
   "cell_type": "code",
   "execution_count": null,
   "metadata": {},
   "outputs": [],
   "source": [
    "# SGD\n",
    "\n",
    "alpha=0.1  # May have to be decreased\n",
    "maxiter=10  # May have to be increased\n",
    "\n",
    "p=X.shape[1]\n",
    "theta=np.zeros(p)\n",
    "for iter in range(0,maxiter):\n",
    "    i = np.random.randint(n) # Select one training example uniformly at random\n",
    "    error = np.dot(theta,X[i,:]) - y[i]\n",
    "    for j in range(0,p):\n",
    "        theta[j] = theta[j] - alpha*error*X[i,j]\n",
    "print('SGD approximation:', theta)"
   ]
  }
 ],
 "metadata": {
  "kernelspec": {
   "display_name": "Python 3",
   "language": "python",
   "name": "python3"
  },
  "language_info": {
   "codemirror_mode": {
    "name": "ipython",
    "version": 3
   },
   "file_extension": ".py",
   "mimetype": "text/x-python",
   "name": "python",
   "nbconvert_exporter": "python",
   "pygments_lexer": "ipython3",
   "version": "3.8.3"
  }
 },
 "nbformat": 4,
 "nbformat_minor": 2
}
