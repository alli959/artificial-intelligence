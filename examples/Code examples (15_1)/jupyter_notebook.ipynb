{
 "cells": [
  {
   "cell_type": "markdown",
   "metadata": {},
   "source": [
    "# Code examples (week 1)\n",
    "\n",
    "Topics:\n",
    "* Gradient descent (a.k.a. steepest descent)\n",
    "* Linear regression via the normal equations\n",
    "* Linear regression via stochastic gradient descent\n",
    "* Polynomial regression with the scikit-learn package\n",
    "* Regularized regression"
   ]
  },
  {
   "cell_type": "markdown",
   "metadata": {},
   "source": [
    "Minimize the function $f(\\theta_0,\\theta_1) = 4 \\theta_0^2 - 4 \\theta_0 \\theta_1 + 3 \\theta_1^2$ using steepest descent.\n",
    "\n",
    "The gradient of $f$ is $\\nabla f(\\theta) = (8 \\theta_0 - 4 \\theta_1, -4 \\theta_0 + 6 \\theta_1)$."
   ]
  },
  {
   "cell_type": "code",
   "execution_count": 5,
   "metadata": {},
   "outputs": [
    {
     "name": "stdout",
     "output_type": "stream",
     "text": [
      "[0.6 0.8]\n",
      "[0.44 0.56]\n",
      "[0.312 0.4  ]\n",
      "[0.2224 0.2848]\n",
      "[0.1584 0.2029]\n",
      "[0.1128 0.1445]\n",
      "[0.0804 0.1029]\n",
      "[0.0572 0.0733]\n",
      "[0.0408 0.0522]\n",
      "[0.029  0.0372]\n",
      "[0.0207 0.0265]\n",
      "[0.0147 0.0189]\n",
      "[0.0105 0.0134]\n",
      "[0.0075 0.0096]\n",
      "[0.0053 0.0068]\n",
      "[0.0038 0.0049]\n",
      "[0.0027 0.0035]\n",
      "[0.0019 0.0025]\n",
      "[0.0014 0.0018]\n",
      "[0.001  0.0013]\n"
     ]
    }
   ],
   "source": [
    "import numpy as np\n",
    "\n",
    "np.set_printoptions(suppress=True, precision=4)\n",
    "\n",
    "alpha = 0.1 # Step length (may need to adjust)\n",
    "maxiter = 20\n",
    "\n",
    "dt = np.zeros(2) # Define a vector with 2 elements to hold the gradient\n",
    "t = np.array([1,1]) # Starting point\n",
    "\n",
    "for iter in range(0,maxiter):\n",
    "    # Gradient\n",
    "    dt[0] = 8*t[0] - 4*t[1]\n",
    "    dt[1] = -4*t[0] + 6*t[1]\n",
    "    \n",
    "    # Updating step\n",
    "    t = t - alpha*dt\n",
    "    print(t)"
   ]
  },
  {
   "cell_type": "markdown",
   "metadata": {},
   "source": [
    "### Linear regression \n",
    "\n",
    "This example shows how to read a small dataset from a text file (in csv format) and perform simple visualization using matplotlib.\n",
    "\n",
    "There are many ways to load data from files in Python, e.g. csvReader and Pandas. Here we use numpy.genfromtxt which is fairly basic but can often be used to get the job done."
   ]
  },
  {
   "cell_type": "code",
   "execution_count": 120,
   "metadata": {},
   "outputs": [],
   "source": [
    "h = 38.79133652\n",
    "q = -2.0873307\n",
    "line = lambda x : h*x + q"
   ]
  },
  {
   "cell_type": "code",
   "execution_count": 127,
   "metadata": {},
   "outputs": [],
   "source": [
    "def plot_line(y, data_points):\n",
    "    x_values = [i for i in range(int(min(data_points))-2, int(max(data_points)+4))]\n",
    "    y_values = []\n",
    "    print(x_values)\n",
    "    for x in x_values:\n",
    "        print(line(x))\n",
    "        temp = line(x)\n",
    "        y_values.append(temp)\n",
    "    plt.plot(x_values, y_values, 'r')"
   ]
  },
  {
   "cell_type": "code",
   "execution_count": 128,
   "metadata": {},
   "outputs": [],
   "source": [
    "def sumnation(y, x_points, y_points):\n",
    "    total1 = 0\n",
    "    total2 = 0\n",
    "    \n",
    "    for i in range(1, len(x_points)):\n",
    "        total1 += line(x_points[i]) - y_points[i]\n",
    "        total2 += (line(x_points[i]) - y_points[i])* x_points[i]\n",
    "    \n",
    "    return total / len(x_points), total2 / len(x_points)"
   ]
  },
  {
   "cell_type": "code",
   "execution_count": null,
   "metadata": {},
   "outputs": [],
   "source": []
  },
  {
   "cell_type": "code",
   "execution_count": 132,
   "metadata": {},
   "outputs": [
    {
     "name": "stdout",
     "output_type": "stream",
     "text": [
      "(100, 2)\n",
      "[-4, -3, -2, -1, 0, 1, 2, 3, 4, 5]\n",
      "-157.25267678\n",
      "-118.46134026\n",
      "-79.67000374\n",
      "-40.878667220000004\n",
      "-2.0873307\n",
      "36.70400582\n",
      "75.49534234000001\n",
      "114.28667886000001\n",
      "153.07801538\n",
      "191.86935190000003\n"
     ]
    },
    {
     "data": {
      "image/png": "[encoded data removed]",
      "text/plain": [
       "<Figure size 432x288 with 1 Axes>"
      ]
     },
     "metadata": {
      "needs_background": "light"
     },
     "output_type": "display_data"
    }
   ],
   "source": [
    "import numpy as np\n",
    "import matplotlib.pyplot as plt\n",
    "\n",
    "data=np.genfromtxt('data/linear_reg.csv', delimiter=',', skip_header=1) # Columns: x, y\n",
    "print(data.shape) # Sanity check\n",
    "n=data.shape[0]\n",
    "\n",
    "# Construct data matrix for linear regression\n",
    "# Model: y= θ_0 + θ_1*x_1 + ... + θ_p*x_p\n",
    "y=data[:,-1] # Output variable is in the last column in this file\n",
    "\n",
    "# Insert a column of ones (intercept term)\n",
    "X=np.c_[np.ones(n), data[:,0:-1]] # Include all columns from 'data' except the last\n",
    "\n",
    "\n",
    "# Plot the data\n",
    "plt.scatter(X[:,1],y)\n",
    "plt.xlabel('X')\n",
    "plt.ylabel('Y')\n",
    "plot_line(y,X[:,1])\n",
    "plt.show()"
   ]
  },
  {
   "cell_type": "code",
   "execution_count": 133,
   "metadata": {},
   "outputs": [
    {
     "name": "stdout",
     "output_type": "stream",
     "text": [
      "Exact solution: theta= [-2.84971111 43.20411495]\n"
     ]
    }
   ],
   "source": [
    "# Obtain the regression coefficients by solving the \"normal equations\", X'Xθ = X'y, directly\n",
    "# This is the traditional way of solving least squares problems (\"exact\" solution)\n",
    "theta_ex = np.linalg.solve(X.T.dot(X), X.T.dot(y))\n",
    "print('Exact solution: theta=', theta_ex)"
   ]
  },
  {
   "cell_type": "markdown",
   "metadata": {},
   "source": [
    "### Stochastic gradient descent (SGD)\n",
    "This example shows how the SGD algorithm can be used to find solutions to linear least squares problems.\n",
    "\n",
    "NB This is a very primitive implementation of SGD."
   ]
  },
  {
   "cell_type": "code",
   "execution_count": 137,
   "metadata": {},
   "outputs": [
    {
     "name": "stdout",
     "output_type": "stream",
     "text": [
      "SGD approximation: [ 9.59104046 15.1931325 ]\n"
     ]
    }
   ],
   "source": [
    "# SGD\n",
    "\n",
    "alpha=0.1  # May have to be decreased\n",
    "maxiter=10  # May have to be increased\n",
    "\n",
    "p=X.shape[1]\n",
    "theta=np.zeros(p)\n",
    "for iter in range(0,maxiter):\n",
    "    i = np.random.randint(n) # Select one training example uniformly at random\n",
    "    error = np.dot(theta,X[i,:]) - y[i]\n",
    "    for j in range(0,p):\n",
    "        theta[j] = theta[j] - alpha*error*X[i,j]\n",
    "print('SGD approximation:', theta)"
   ]
  },
  {
   "cell_type": "code",
   "execution_count": null,
   "metadata": {},
   "outputs": [],
   "source": []
  }
 ],
 "metadata": {
  "kernelspec": {
   "display_name": "Python 3",
   "language": "python",
   "name": "python3"
  },
  "language_info": {
   "codemirror_mode": {
    "name": "ipython",
    "version": 3
   },
   "file_extension": ".py",
   "mimetype": "text/x-python",
   "name": "python",
   "nbconvert_exporter": "python",
   "pygments_lexer": "ipython3",
   "version": "3.8.3"
  }
 },
 "nbformat": 4,
 "nbformat_minor": 2
}
