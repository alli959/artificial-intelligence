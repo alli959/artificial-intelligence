{
 "cells": [
  {
   "cell_type": "markdown",
   "metadata": {},
   "source": [
    "## REI602M Machine Learning - Homework 1\n",
    "### Due: Sunday 24.1.2021\n",
    "\n",
    "**Objectives**: Python, NumPy and Matplotlib warmup, gradient descent, linear regression\n",
    "\n",
    "**Name**: (Alexander Guðmundsson), **email:** (alg35@hi.is), **collaborators:** ()\n",
    "\n",
    "Please provide your solutions by filling in the appropriate cells in this notebook, creating new cells as needed. Hand in your solution in PDF format on Gradescope. Make sure that you are familiar with the course rules on collaboration (encouraged) and copying (very, very, bad!)\n",
    "\n",
    "This assignment is somewhat time consuming so start early."
   ]
  },
  {
   "cell_type": "markdown",
   "metadata": {},
   "source": [
    "1) [Python warmup, 15 points] The following code implements the matrix-vector product $y=Ax$ where $A$ is an $n \\times m$ matrix, $x$ is a column vector with $m$ elements and $y$ a column vector with $n$ elements, $y_i = \\sum_{k=1}^m A_{ik}x_k$. (Note that in practice one would use NumPy's `dot` function to perform the matrix-vector multiplication).\n",
    "\n",
    "*Note*: A useful Python/Nympy tutorial which covers most everything we need in REI602M can be found here: https://cs231n.github.io/python-numpy-tutorial/"
   ]
  },
  {
   "cell_type": "code",
   "execution_count": 1,
   "metadata": {},
   "outputs": [
    {
     "name": "stdout",
     "output_type": "stream",
     "text": [
      "[ 87. 179.]\n"
     ]
    }
   ],
   "source": [
    "import numpy as np\n",
    "\n",
    "def matvecmul(A, x):\n",
    "    # Computes the matrix-vector product Ax using elementwise operations\n",
    "    n, m = A.shape\n",
    "    assert(m == x.shape[0])\n",
    "    y=np.zeros(n)\n",
    "    for i in range(0, n):\n",
    "        for j in range(0, m):\n",
    "            y[i] = y[i] + A[i,j] * x[j]\n",
    "    return y\n",
    "\n",
    "# Test\n",
    "A=np.array([[1, 2], [3, 4]])\n",
    "x=np.array([5, 41])\n",
    "print(matvecmul(A,x)) # Outputs [87, 179]"
   ]
  },
  {
   "cell_type": "markdown",
   "metadata": {},
   "source": [
    "a) Write a Python function which computes the sum of each row in the matrix $A$, i.e. $y_i = \\sum_{j=1}^m A_{ij},~i=1,\\ldots,n$, by accessing individual matrix/vector elements directly as is done in the `matvecmul` function above."
   ]
  },
  {
   "cell_type": "code",
   "execution_count": 2,
   "metadata": {},
   "outputs": [
    {
     "name": "stdout",
     "output_type": "stream",
     "text": [
      "rowsum(A) : [6, 2]\n"
     ]
    }
   ],
   "source": [
    "import numpy as np\n",
    "\n",
    "def rowsum(A):\n",
    "    rs = []\n",
    "    for i in A:\n",
    "        s = sum(i)\n",
    "        rs.append(s)\n",
    "    \n",
    "    return rs\n",
    "\n",
    "# Test\n",
    "A=np.array([[1, 2, 3], [3, 4, -5]])\n",
    "print(\"rowsum(A) :\", rowsum(A)) # Outputs [6, 2]"
   ]
  },
  {
   "cell_type": "markdown",
   "metadata": {},
   "source": [
    "b) Modify the `rowsum` function so that only positive elements are included in the sum, again by accessing individual matrix elements."
   ]
  },
  {
   "cell_type": "code",
   "execution_count": 3,
   "metadata": {},
   "outputs": [
    {
     "name": "stdout",
     "output_type": "stream",
     "text": [
      "rowsumpos(A) : [6, 2]\n",
      "rowsumpos(B) : [6]\n"
     ]
    }
   ],
   "source": [
    "import numpy as np\n",
    "\n",
    "def rowsumpos(A):\n",
    "    rsp = []\n",
    "    for i in A:\n",
    "        s = sum(i)\n",
    "        if s > 0:\n",
    "            rsp.append(s)\n",
    "    return rsp\n",
    "\n",
    "# Test\n",
    "A=np.array([ [1, 2, 3], [3, 4, -5] ])\n",
    "print(\"rowsumpos(A) :\", rowsumpos(A)) # Outputs [6, 2]\n",
    "# Test2\n",
    "B = np.array([[1, 2, 3], [3, -4, -5]])\n",
    "print(\"rowsumpos(B) :\", rowsumpos(B)) # Outputs [6]"
   ]
  },
  {
   "cell_type": "markdown",
   "metadata": {},
   "source": [
    "c) Compute the matrix product $C=AB$ where $A$ is $n \\times m$, $B$ is $m \\times p$ and $C_{ij} = \\sum_{k=1}^m A_{ik} B_{kj}$ is $n \\times p$, by calling `matvecmul` repeatedly."
   ]
  },
  {
   "cell_type": "code",
   "execution_count": 4,
   "metadata": {},
   "outputs": [
    {
     "name": "stdout",
     "output_type": "stream",
     "text": [
      "matmul(A1, B1) : [array([50., 68.]), array([122., 167.])]\n",
      "matmul(A2, B2) : [array([50., 68.]), array([122., 167.])]\n"
     ]
    }
   ],
   "source": [
    "import numpy as np\n",
    "\n",
    "def matmul(A,B):\n",
    "    C = []\n",
    "    #Using Xline x YColumn assuming X == A || B and Y == A || B\n",
    "    x = [] #will be the array of all the columns in the array that has more lines\n",
    "    Anew = [] # will be the array of the lines in the array that has less lines\n",
    "    \n",
    "    if len(A) > len(B):\n",
    "        for i in range(len(A[0])):\n",
    "            temp = [c[i] for c in A]\n",
    "            Anew.append(temp) #creating an array of columns in A\n",
    "        x = B\n",
    "    \n",
    "    else:\n",
    "        for i in range(len(B[0])):\n",
    "            temp = [c[i] for c in B]\n",
    "            Anew.append(temp) #creating an array of columns in B\n",
    "        x = A\n",
    "        \n",
    "        \n",
    "    # now we can create the output array by looping through the columns by calling matvecmul\n",
    "    \n",
    "    for k in x:\n",
    "        tempArr = matvecmul(np.asarray(Anew), np.asarray(k))\n",
    "        C.append(tempArr)\n",
    "    \n",
    "    return C\n",
    "\n",
    "# Test\n",
    "A1=np.array([[1, 2, 3], [4, 5, 6] ])\n",
    "B1=np.array([[7, 10], [8, 11], [9, 12]])\n",
    "print(\"matmul(A1, B1) :\", matmul(A1, B1)) # Outputs [[50, 68], [122,167]]\n",
    "\n",
    "# Test 2\n",
    "A2=np.array([[7, 10], [8, 11], [9, 12]])\n",
    "B2=np.array([[1, 2, 3], [4, 5, 6] ])\n",
    "print(\"matmul(A2, B2) :\", matmul(A2, B2)) # Outputs [[50, 68], [122,167]]\n"
   ]
  },
  {
   "cell_type": "markdown",
   "metadata": {},
   "source": [
    "2) [NumPy warmup, 15 points] Repeat a), b) and c) in 1) using NumPy functionality. Aim for fast code by avoiding for-loops as much as possible."
   ]
  },
  {
   "cell_type": "code",
   "execution_count": 5,
   "metadata": {},
   "outputs": [
    {
     "name": "stdout",
     "output_type": "stream",
     "text": [
      "rosum(A) : [6 2]\n",
      "rowsumpos(A) : [6 2]\n",
      "rowsumpos(B) : [6]\n",
      "matmul(A1, B1) : [[ 50  68]\n",
      " [122 167]]\n",
      "matmul(A2, B2) : [[ 50  68]\n",
      " [122 167]]\n"
     ]
    }
   ],
   "source": [
    "import numpy as np\n",
    "\n",
    "def rowsum(A):\n",
    "    rs = np.asarray(np.sum(A,axis=1).tolist()) #using numpy sum to find the sum of each axis\n",
    "    return rs\n",
    "    \n",
    "def rowsumpos(A):\n",
    "    rsp = np.asarray(np.sum(A, axis=1).tolist())\n",
    "    rsp = rsp[np.where(rsp>0)] # removing all elements less than 0\n",
    "    return rsp\n",
    "    \n",
    "def matmul(A,B):\n",
    "    #Using Xline x YColumn assuming X == A || B and Y == A || B\n",
    "    C = np.array([])\n",
    "    if len(A) > len(B):\n",
    "        C = np.dot(B,A)\n",
    "    else:\n",
    "        C = np.dot(A,B)\n",
    "        \n",
    "    return C\n",
    "\n",
    "\n",
    "# Test rowsum(A)\n",
    "A=np.array([[1, 2, 3], [3, 4, -5]])\n",
    "print(\"rosum(A) :\", rowsum(A)) # Outputs [6, 2]\n",
    "\n",
    "# Test rowsumpos(A)\n",
    "A=np.array([ [1, 2, 3], [3, 4, -5] ])\n",
    "print(\"rowsumpos(A) :\", rowsumpos(A)) # Outputs [6, 2]\n",
    "\n",
    "# Test2 rowsumpos(A)\n",
    "B = np.array([[1, 2, 3], [3, -4, -5]])\n",
    "print(\"rowsumpos(B) :\", rowsumpos(B)) # Outputs [6]\n",
    "\n",
    "# Test matmul(A, B)\n",
    "A1=np.array([[1, 2, 3], [4, 5, 6] ])\n",
    "B1=np.array([[7, 10], [8, 11], [9, 12]])\n",
    "print(\"matmul(A1, B1) :\", matmul(A1, B1)) # Outputs [[50, 68], [122,167]]\n",
    "\n",
    "# Test 2 matmul(A, B)\n",
    "A2=np.array([[7, 10], [8, 11], [9, 12]])\n",
    "B2=np.array([[1, 2, 3], [4, 5, 6] ])\n",
    "print(\"matmul(A2, B2) :\", matmul(A2, B2)) # Outputs [[50, 68], [122,167]]\n",
    "\n"
   ]
  },
  {
   "cell_type": "markdown",
   "metadata": {},
   "source": [
    "3) [Linear regression with gradient descent, 40 points] Here you implement a gradient descent algorithm for linear regression and apply it to a small data set. You then add code to track the minimization process. For many learning algorithms this is a very important part of the training process."
   ]
  },
  {
   "cell_type": "markdown",
   "metadata": {},
   "source": [
    "a) [30 points] Create a function `linreg_gd` which implements gradient descent for linear regression with the least squares cost function, using maximum number of iterations as a stop criteria.  See the lecture notes for details and the Jupyter notebook `vika01_demo` on Canvas. Try to avoid Python for-loops as much as possible by using NumPy functionality in your final implementation.\n",
    "\n",
    "Use your function to fit a linear regression model on the form\n",
    "$$\n",
    "f_\\theta(x)=\\theta_0 + \\sum_{j=1}^p \\theta_j x_j\n",
    "$$\n",
    "to the `Avertising_centered` dataset provided with this notebook.\n",
    "\n",
    "*Note 1*: You can use the `linear_reg` dataset used in the `vika01_demo` notebook to debug your code. Write the $\\theta$ values to the screen every iteration (or every 100 or 1000 or ...) to monitor convergence. You can compare the output of your code with the values you get by solving the normal equations directly.\n",
    "\n",
    "*Note 2*: You may want to begin by implementing a version that does not rely heavily on NumPy. Once you get it working, gradually introduce NumPy operations into the code.\n",
    "\n",
    "*Note 3*: The advertising dataset is discussed in the ISLR textbook (see sections 2.1, 3.1 and 3.2). Here the data has been transformed by subtracting the mean of each input variable and dividing by its standard deviation so that all inputs now have mean zero and standard deviation one (more on this later in the course). As a result, gradient descent converges faster to the optimal $\\theta$ values but note that the values now differ from those reported in the book."
   ]
  },
  {
   "cell_type": "markdown",
   "metadata": {},
   "source": [
    "$(\\theta_0, \\theta_1, \\theta_2, \\theta_3) = $ ( ... insert your results here ... )"
   ]
  },
  {
   "cell_type": "code",
<<<<<<< HEAD
   "execution_count": 90,
=======
   "execution_count": 14,
>>>>>>> 5f0a1eafac2032258288a447785a963509381def
   "metadata": {},
   "outputs": [
    {
     "name": "stdout",
     "output_type": "stream",
     "text": [
      "(200, 4)\n"
     ]
    },
    {
     "data": {
<<<<<<< HEAD
      "image/png": "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\n",
=======
      "text/plain": [
       "[<matplotlib.lines.Line2D at 0x1dc8327f1f0>]"
      ]
     },
     "execution_count": 14,
     "metadata": {},
     "output_type": "execute_result"
    },
    {
     "data": {
      "image/png": "iVBORw0KGgoAAAANSUhEUgAAAXAAAAD4CAYAAAD1jb0+AAAABHNCSVQICAgIfAhkiAAAAAlwSFlzAAALEgAACxIB0t1+/AAAADh0RVh0U29mdHdhcmUAbWF0cGxvdGxpYiB2ZXJzaW9uMy4yLjIsIGh0dHA6Ly9tYXRwbG90bGliLm9yZy+WH4yJAAAgAElEQVR4nOxdd3gU1dc+m5BKQg0lAZJIaBIivXekV4MUEQSlqCDSLICFjqL8BEREKSpVLDQpCigCShHpnSAgSE8ghJKe3fv98XK/O7M7szub7KZx3+c5T7KzU+7M7r733FNNjDGSkJCQkMh78MjpAUhISEhIZA6SwCUkJCTyKCSBS0hISORRSAKXkJCQyKOQBC4hISGRR1EgOy8WFBTEwsPDs/OSEhISEnkehw4dus0YK2G9PVsJPDw8nA4ePJidl5SQkJDI8zCZTJe1tksTioSEhEQehSRwCQkJiTwKSeASEhISeRSSwCUkJCTyKCSBS0hISORRSAKXkJCQyKOQBC4hISGRRyEJXEJCQsIaZ84Q/fprTo/CIbI1kUdCQkIi1yM1lahzZ6LQUKI2bXJ6NHYhNXAJCQkJJebOJbp4kWjQoJweiUNIApeQkJDgiI0lmjaNKCyMqHfvnB6NQ0gCl5CQkOCYOJHo/n2iN94g8vLK6dE4hCRwCQkJCSKikyeJFi4kCgrKE+YTIkngEhISEkSMQeu2WIhGjCDy9zd+7KlTRGlp7hubHUgCl5CQkPjlF6Jt24gKFiR67TVjx5w9S9SpE1G1akTff+/e8elAEriEhMTjjfR0aN9ERK+8QlSsmP39794lGjWKKCqK6OefiQIDiTp2dP84NSAJXEJC4vHGggXQpr28iEaP1t8vI4Po88+JKlQg+uwzorp1sX3UKKLixbNnrFaQBC4hIfH44u5dRJ4QEfXrR1S2rPZ+27YRVa9ONHw4/h45AmdnkSJEY8Zk33itIAlcQkLi8cWUKUTx8UQmE9Fbb9m+HxODrMx27ZChuX490fbtRCkpRBs34pgiRbJ/3I8gCVxCQuLxxLlzRPPm4f9nniF68knx3t27MKdUq0b0559EM2ci2uTePaLnniN6/31o4CNG5MzYH0ESuISERM4iJYVo1iyi4GCiOXNcf37GiH77jSg6msjXl+jAAWx/6y3YtYmIxo7F34wMovnziSpWREr9wIFE//wDJ+esWUQDBhD98ANMKuPGEQUEECUlES1dStS4MVGpUtkaUuiwmJXJZCpHRMuIqDQRWYhoIWPsU5PJNImIhhBR3KNd32GM/eyugUpISOQzmM1Ey5fDBv3ff9h26ZLrzn//Poh1/nw4KYOCEHGyYQPRgwf4S0TUsiVR/fog5dGjiU6fxrbZs2HvtliIRo6E45KjdGmiZs2ggS9fTpSQQOThQTRpEpG3t+vuwREYY3aFiIKJqNaj/wOJ6BwRVSWiSUT0pqPjlVK7dm0mISHxmMNiYeynnxiLjGSMiLG6dRnbvp0xHx/G3n476+c/eZKxoUMZCwjA+evVY2zZMsaSk/F/gwaMPfUU3iNibO5cxjp3xv8REYytW4cxMsZYSgpjvXqJffUkNJSxP/7I+th1QEQHmQanOtTAGWM3iOjGo/8fmEymM0RUxi2ziYSERP7G7t0wPezZQ1SpEtGPPxI9+yzeS00l8vHJ3HkzMoh++glhfjt24DzPPYekHB7uRwTN+qOP1MeOGYPMy5kziV5/XYzh/n2YXX7/3fZ6Hh7QzImI+vSBlp8DzkynbOAmkymciGoS0f5Hm4abTKbjJpPpa5PJVFTnmJdNJtNBk8l0MC4uTmsXCQmJ/I6TJ4m6dCFq2hSlWhcswLYePRABkp6O/Zwl8NhYounTiZ54Aue6cIFoxgyiq1eJlixRkzcRUe3atufgdu433xTXv3mTqF49bfI2mZCxGRhItGIF0bff5lwkipZariVEFEBEh4io+6PXpYjIkzAJTCeirx2dQ5pQJCTyMGJiGJs+nbG0NOPHXLrEWP/+jJlMjBUuzNiHHzKWmGi73/37MEXMnOn4nBYLY/v2Mda3L2Pe3jiuTRvG1q9nLCPD/rFVqqhNH4cO2e6zbp1jk0mjRoxdvGjsGbgApGNCMUreXkS0lYjG6LwfTkQnHZ1HEriERB6ExcLYggWM+fszVqQIYwkJjo+Ji2Ns1CgQrI8PY2+9xdidO/b35/ZoPSQlMfb114zVqoV9AwMZe/11xs6ccTyes2cZq1ZNTcJffKE+95IlGCt/PyKCscmTbcl7yhTG0tMdX9OFyDSBE5GJEIUyx2p7sOL/0UT0naNzSQKXkMhjiI1lrGtXUMUTTzB2+rT9/R88AMEFBjLm4cHYoEGMXbni+DpXr+IaCxfavnfxIiaAYsWwT9WqjM2fD63dEeLjGRs9mrECBWyJ+PZtxk6cwCRQpIj6vT17GDOb1c5OIsb+/NPxNd2ArBB4EyJiRHSciI4+ko5EtJyITjzavkFJ6HoiCVxCIg/h558ZK1UKNNGwIWO3bunvm5rK2Lx5Yv/oaMdkr8T58zhu6VK8NpsZ27IF0SEmE2Oenow9+yxjO3aICBF7SE8HyRcvjuOrVsX5u3SxJXJvb+xDxFhUFGPXruEcEyfa7nvunPF7ciGyZEJxlUgCl5DIA0hKYmz4cEFavXtjmxbMZsa+/Zax8uWxb/PmsE87i1OncPyCBYzNns1YxYp4XbIkY++9Z0yLZwzkPmSIGHuLFowdPoxQRS1b9iefMPbuu/i/WTPG7t7FOfr1s9137Vrn78tFkAQuISHhGEeOMPbkk4K03nkHJG0NiwUacs2a2O+pp6CxG9GOtbB0qZosGzZkbOVKxGEbxZo16nOsWgWHaZs22uRdty7izokY694d5pb//U9733XrMndfLoIkcAkJCX2YzYx9/DFjXl6ghQIF4DDUwv79jLVsyf7fLr5ihTbJO0JaGmPffw/NlxNlcLB2ZIg9XLxoS7gREbBt8ygVpVy/LoibiLH27RkbM8Z2v5AQxsLDGatTJ/MTk4sgCVxCQkIb//yjJq7ChZEZaY2zZ2GHJmKsRAlEjKSmOn+9GzcQ3RESIiYBngmpdV09pKYyVqOGeuz164v/leT9/fd4/corjD18qO3U5FKkCN5/4w28/uUX5+9Ribt3GZs6lbF79zJ9CkngEhKPCzZtYqxtW8Rcx8ba33fFCjV5aUWaXL0Ku7KnJ9LTJ00yFgGihMXC2O7djD33nNDy27dnbONGxG5v3Yptu3cbO9+kSbaTjjKSZMoUxo4dQ+hjjx6MjR2LqJgtW/SJu1s3xv76C/u98gpjZcow1rhx1rTvjAzGOnTA+Z1dWSggCVxCIr9D6XwsWVJoof36MbZ3r5qIEhKQCGNNYspIk/h4EJ+fH0h3xAj7kShaSExkbNEixqpXF0Q7apRtNMeGDXj/4EH759u5U5t8vb1FzZIePbDvgAHYfuSIPmnzY7mDsl07TAQTJuC933937n6tMX48zuPnl7nVyiNIApeQyM84cUIkqoweDeff6dOwAxcqhO01aiDOessWxsLCbIls1iycKymJsY8+YqxoUYTX9evnfNbh+fOwK3OtOCoKESYPH2rv/8MP2O/ECe33b93SJt9KleB4jIsD2RLhXAcPihWFPfImEolAv/yC11OnYgJs1cq5e7bG99+La2TxXJLAJSTyIywWxj77DBmEpUpp22sfPGDsyy/V0SVKeekl/J03j7HFi2E6IMLS/+hR42MxmxnbvJmxjh1B/AUKQCv+4w/HZojly3FNa808PZ2xp5+2HXOfPtDGlecdOhQmEx5TriXNm+M5eXsz1qkTtm3ahOtERsL5OXUqtu/ZY/zercHNN7zi4sSJmT8XkwQuIZH/EBsrnH8dO9o3b5w9y1jt2tqkNm+e+nWDBiBHo7hzB1pwRASOL10ahMUTYrRw/z5jI0ciwsNsxsRBxNjly2IfZSw6F65tWyMjw7Gm3aMH/j75JMwqSUkg8jffxOqACJE3xYph8sosbt+G5h8SgvMRMfbbb5k/H5MELiGRv7B1K4jSxwfRIHoarsUC7dvfH8RUrpxaG7UmuS++MO60O3KEscGDYd8lYqxJE8ReO7L1btwoxlG4MK73+ed4/e+/sJFbj2vbNu1xJSYK8rcnZcvi72uvqYtpNWsGM0zJkhg/r33iyBavB75i8PZGuOX48ViJ6JmODEISuIREfkBKighvq1oVS3U9KOuYtGmDyBROaN98gygQa6IrUACZl7t2aRNmaioyLxs3Zv/vnBsyxJip5cYN4WiMjARptmyJ9wYN0iZePSI9fx7PoWhR7eN4iCKXEiUwcViDOyuJ4BsoVIixZ55xfC964PHkPIa+SROENmYRksAlJPI6zpwRmY+vvaaf3s4YbNGlSkFDnz1bhLJxE4nJBPKbOVPYjN98U+14jIyEZnz/PswhEyaIWicREUhDj493PG6LBZEoRYpAM506FVowJ1Zl7DYXrcxHsxnZnp06idolRqRdO8Zu3tQe27Jl2CcwEFmnJhNjx48b+zyswe34r7+O18nJwkSTRUgCl5DIq+AE6O+P4kw//aS/b2IiyJ0IkR+HD2vbvsePR4IJY7aVABMTGfvqK22nZ6dOIFGjmZdnzwpTTbNmeH3ypMjktJZhw2zPHR+PCJkKFWz3L1tWrDIKFrR9v2ZN+yYhbhdv3hzH9+5t7L6scfAgY76+qL3C66Xv2oVz2/u8DEISuIREXsSdO6jTQcRY69b2HYOHDwvSHTMGTk3rMqlEMBOcOiWOu3JFEPjt27ZOTaU0a4bwOEd27tRUaNo+PhjD3Lmot81NL3qixNGjMM/4+9vuV7UqzpeaiugTvfPZq6Vy4IB6Xw8PY7XFrXHzJiaS0FB14tS0aTivvTroBiEJXEIir2HHDoT0eXnB1KGn9V6/LkgoJISxX39FOJ6SnCpXhnkgOBi254IFYctmDDWu9QiwRg1o5Ldvo1YKj6suXZqx99/XrhK4d68In4uMhN2bTyTcBKOUQ4cQux4QIOqjNG2qPZ5GjaDR8mehFX3SqBH+fvKJ/rO1WDAZlSiBkEQiaPLOIi0NY/XzwwSqRLt2iM13ASSBS0jkFaSlwcRhMiFCQi8FOy3NNmIjNhY2WOW2xYuhpZpMqDVy9Spsvo5sx3v3Mvb88wj342YIbodW1umOjkaYXEKCMN8ohWdJamnf/LzR0XgdHIy/PN1eabrZts22ZRqPXuGyZQvOVbSo/XR/3jZt/nzRtIEnMjkDfr8rV6q3p6djQho61PlzakASuIREXsA//zBWrx5+moMH64efbdumJi4tUwkRklE2bsT/9epB03WUnfj005gIVq0S2/73P9sxXLyIVPugIO3zlCiB45YsUW/v2hXE/9pr0P579xbvhYXhOA8P7NOvHxKB3ngDpK6skLh2rfq8167BBGIyoYa4HlJTYU9/8knGLlwQx48a5dxnxcMXtZyUPBOUr3KyCEngEhK5GRYLamIHBICMf/xRe78LF2wdgCtWaDv41q+HXduRpq2Ud96BlvvwIcw3tWrB0ccLQWmNR+9c1nW4TSY0ObauTVK4sPq1vz/qrpw/D3t88eLY3rOniHp55RX1MRs2YPvAgTBn2CviNWcOjtm8GTZ2b280kKhe3fjntXcvjmvbVruR8uzZuIbRRhQOIAlcQiK3IiFB2GGbNWPsv/9s93n4EFqlkrSio0UmppbwBBtr8fdn7NVXES63ebP6vYkTQUi8S83u3bh29eog2pgYjOfECURdGJ0Y1q3D6sK67na3bqJJMb9+XBzS23kH+ZAQTEb8OSgbDytNMVeuQEsfPlz/WcfHI6GpdWuMx9MTJqcpUzDBGHE4XrsGU0/58vr7R0djpeMiSAKXkMiN2LMHZgNPT0QtWGtzFgtj331n6/yLjIRWrEeYvJ6JUipWhPZ59y6u8/772K5nfunXT4zj0iWsDoj0a2l36SLC8oxI5cq2244fV2vuQ4digmMMvgCt8/AWbmPG4Dn++6/+8x4zBkR99ChjL7yASe76deHIddR5JyUFcfQFC+rHi1ssMAP172//XE5AEriERG5CejpqWnt4QJPT6iN59Ki6W41R8fMTTXyJoKVv3SoiN+LiRFbmiy+iaiGRrW2ck9nJkzBpaF3LwwNE+Omn6u0REYyNG2ff3l61KmzyShs6n5QqV4btmzGM+8MPxT6lSuHZ8NeMQRMuWFA96Vjj/Hlo6AMH4p49PIT9OiUFz23ECP3jLRYcS8TY6tX6+505g30WLdLfx0lIApeQyC24dElEZLzwgm2nljt3kNBiT8PWEmtbMhFstUrs3486JN7esI/v2SPC7pyVoUMRssgjR5SrA2V9lHnzhEnGkRQoAFNRcjLGe+WKOnqlf38QOl8NzJuH/aZMYf+vweuhRw+Yj65dQ1RMQIDaVt66NSJS9MAjXuw5SBkTfgdubnIBJIFLSOQGrFoFog0MhPNRiYwMFJMqVswY2fn5YTmv976yi7rFgnN7e0ODHTZMbXsmEuVVjYqnp/72wYPhWBw5UiTidOmCqAx751QS8I8/qs01M2bgPn77TWxLTIQEBWH8euAmksmTUT+GCJOKEjzxRqva4a5dGEvnzvazUG/fFmObPFl/PychCVxCIidx/z7MFUQgXesGCX/8IbrWaEloKBJclMWXlPL882gH9uOPYhtHYiI0fetjIiNB6vv327733HOIQVdu69oV5MYjLLSkWTPcywsvgPAKFIDWfPIkxmId+mctderAHPPcc+rtS5bg+IwMkSTEE28++wyv//xT+9mbzQihDAmBE7RbN0yi1nVc9uzBedasUW+/fBk27cqVhT1eidRUOFmjo9Xx61u3GvtuGIAkcAmJnML+/bAJe3jAcZieLt67ckVEoOjFUxPpOxqJUETp9Gk470JDsa1MGWirMTHqfU0mNCbesUPfts2dm1yCg7XT2a0lIkJExRQsiLhqZX1v6+bJRCLm3Z5s3izOoQyL/PFHJDOFhcHMogeu9X/zDWN//43/p0613S81FfepjGJJSsJKpVAhdZq9xYJY79dfF5+bjw9qoRDBWexCSAKXkMhuZGTA+VagAOzO3CnHGGy806eDMHx8bMufDhwITfDLL2FHdkRyRiQyEtX3pkyBpksEjVGPRCtVgsaq1+HGesxEiNmePBmmBI77920zNIsVw1jWr1dv1zLLtGuH9Pm7d0WvTz8/rCx4BUCtUrH8OYeFoSSA2YwSusWL62dptm0r0t8tFjhFTSZx/uvXUVKArwKI4Iz99FP4LlauxDbrtPosQhK4hER24soVkXDTq5dYrlssIKPy5QWpKsmqUyeQTnIyEns4YREh7nrhQpBX9erQuE+fRi9IXpHPWdGq4EcEs4S9GilPPilsxlzmzlU3S8jIQCSG1vG8e9DIkert/H5DQ3FfkydrTxS9eoGQIyNBuHp26RkzsP/27YhpJwIBWyM9HRo2v6fYWKTWEyG5adUqkD93LPv6wjS0e7e62uErr0Bb10ruyQIkgUtIZBfWroWGWbAgUr/5D/zMGWiTXAO1ToT5919EqIwbZ2tOWbsWoXOFCyOeW1nf+uJFfaJduFBdb7tQIWiVb72VOcLX6uLDZdo0MabffhM1RqylZk1EjyQn277n5QVCvnpVnCstDSn5yv18fETH9+XLtT+HW7fgLO7SBa9btoQDl08yZjNWRcOGwcbNJy4ixl5+WVxLWTcmMhITlV4d9KpVocUfP47Jy0WRKJLAJSTcjYcPxQ+/Th3RoPfePdTy4BEVPASOy4wZqG3SrZt26OCpUzhXyZIoW3rpEs4bGysa8NqTihVRzTA2FvLuu9ohh1o9KInUNbddKdxer5SmTUWdciV69sTKo2JF7KeMTpk3D42brTF0KEwyZ85AAyeCbfrvv5HQw5OdChTA/a1Zo22n9/VlbMAAODm1aosnJSFKxTrLlAhmMhdAEriEhDtx5AhSv00mFHhKTYWG98032iVUOTGMGiVSxrUchf/9B3NMWBi08jNnQED9+yMk0BFJ1q8P0vnvPzgs9dLrtWTWLBDas8+qt9sLXcyqTJ8Op+Pvv8M8FB8vTDnvvYdJrFcv1GVRHleoEO6POxpPnxYFsywWMWkqM1Tr1IE2feECVkrcAcnFzw8aubW2HRcH2/2bbzLWsKFt5UQirBBmzTLe+MIBJIFLSLgDZjN+qN7esNXy7uN//63dKsyawIngROzSRR3/Xb48NLu4ONibvb1hL+YOx4AA7QSckiWFts17Xr70EkimQAFj0STOyPPP238/Lg6mEmvCzYrw4lZEiKWfNQuOXt5mrVUr8b51ad0yZWCiOnECSUj9+uk/k5s3Qf7//IOJeNAgMdkS4TNp3BgTtrLi4lNPYQJxITJN4ERUjoh2ENEZIjpFRCMfbS9GRL8S0T+P/hZ1dC5J4BL5CjduiJT0Z55B5MXNmyBMRyTk44Nl+ZIlasIhgrnFbIbpxVp7r1IFBG1tEyaCmYAv8Q8fdh1hjh+PpJwjRxB6WLw42rT98IN2FUQuvBuOdZz5gAF4TsrzE0H7vntXOGa//VZNmFmVn3+GOWr8eNGlnktUlNDOw8LEduXzL1oUYZIzZsB5ybNFN25Egwu+nzJM1EXICoEHE1GtR/8HEtE5IqpKRB8T0bhH28cR0UeOziUJXCLfYNMmOL78/BDql5qKDjCFCtknkeLFQQAXLsBmal0YavFikPDPP6u3P/MMlvsjRth2Yu/QAdEagwfrR5U4IyVKwLbOK+09fIiklHHjbImtcmXhmLWWkSMZ++UX9baaNTHRcft3xYqYqIjUNcctFsY++ABadbNmcGRy80m/fpgAT5xAgauvvkKYoL17ql/fdkXk5wfz0OTJ2n1DiZCQtGABiN/aHHLvnqiNwmu+vPOOW75uLjOhENFPRNSGiGKIKJgJko9xdKwkcIk8j+RksSyvXh0/7G3bjGmKP/0E7WzpUlvN2s8PxaM+/5yx8HD1e5klZWvN3ojMmwfi3r4dNufGjbVtvEFBcBJap+MvXmzfsbpokfpZHT6MaBEi2JsZg+mIJzc99xxe//67IHlPT2jxCxfiHrUcvzNm4HnrjcPTE2Yq62MHD8bKokYNjFMP27djEvLwgEa/aROO16qZ7gK4hMCJKJyI/iOiQkSUYPXeXZ1jXiaig0R0MDQ01C03JyGRLThxAiFuRHA+nj4NzdgRKf7+O44/fNixXdwZ+ewzhMBxrb9cOWjp+/Zl7nwREQgT5M5RDw/t0rHDh0OU7wUEqFPHrUn/o4/w19sbETAVKmAlYTbDwcrJ/epVkWQ0fbowCb36qjhea+yvv47sUv6ahwXqScGC6Dw0ejRe+/iI6B7GECtOhMQdJRITxQResaIoFvb++3he1oXJXIQsEzgRBRDRISLq/ui1IQJXitTAJfIkLBZopr6+WMavXm3bXEFLSpaEmaR168yTdI0asLFu365O6hk1StQqqVQJmu/q1VmfFGrVgg3+669hmrF+f8oUUceb25FDQmAfT0uzbRBhLSEhiJEOD0ftEMZE6N7rryNtPyBANHBITHRcAKt6dZiv7O3j54dqhHPmIAU+PR2TB2/vtmOH+jPnHetXrRLb9u4VYYwjRqiTllq0wLNzE7JE4ETkRURbiWiMYps0oUjkf8TGivoe9esjEiGrJKkUT09EcnCTAZePP8a1LRZor1pmgpo1YX//8EP9yoCO5KmnhA17/nxcj/d61JPwcNihCxSAJj1vHkwa1vvdu4cCW8ptu3eLxCNuMjl5Un3ugwfhNH3++azb9Lt1QykArfjtiROxz9y5tu+lp2Nl8/LLcMaOG4fPICwMk6kSqakiJNRNyIoT00REy4hojtX2mVZOzI8dnUsSuESuxf37sGdv2YKl/IQJtpEKzsi8edqJKkrp2tU2pjo8XDjLEhK0TTSNGyPrkVc3zKx89x2uwxs6TJ4MM4y9YypVgu3b3j6FCgnCXLBA/V5QkJisuGOQR/IQIZzSXuEuR1KlCmNnz8KpWKuWNnEzJrrSv/ii/j584uZms0GDtE0kelUMXYisEHgTImJEdJyIjj6SjkRUnIi2Pwoj3E5ExRydSxK4RI4gKQmZjNu3I2xv6lRoVh064MeplZVoRJYsAekpt1WowFj37o6P5ZEkFSsKgujeXYSgHTumHdGiRfrOyJQpiB+vVElMFNZNhvWkb1/H+0yYgHNaLOLZ6D3f+Hh9snYm4YjXk3njDVybTxrKKoZKnDoFM03duiIU0Bppaepxb9qk//3i9VZ4fRc3QCbySDxeOHIEyR16JVqDgmCC6NoV2XozZqCS3KJF9hsqBAcjdO3y5czHKHt5Ibri999R48TTEw41HjdtJD3eiAwbBpJMTxfbuLY4ezaupXT8ZVV+/BHnzMgQTscBA0RRKOuIlazK009DI27VCuGZd++CkMuWRYaklmYdH49JtlQp/Y7xp04JRyqRtolFiU6d4BdwIySBSzw+WLkSGlxICDTtqVOhLW/fDk08Kcn2GIsF5K2XlVejhujUwkuGZkZ4liRjyNr09oZt/cEDdZ9Hoszbfz/8UH2PvEATEYot+flpN3HQE+sJTUs75k7A5GSxAhk7Fs+Vm3r0aq04I9yx2r49zr1xo5pk587Fa54Rq0RGBo7z8oItXuv9Tz5BRErx4nBgFimC0EI9ZGRAUx8yxOHXMiuQBC6R/5GeLgoKNW2qrthnD3fu2Nb74NKunSDDu3eNtx3Tqn/yzTdCK9y/HwRdrRriyJUaH1HmUt4nTLDNAoyLAyFlljCtzSb9+6sbFRcujImHPx/ehHn2bFTi470qXSH37mFy8PVFIlRaGlZBlSrh/8REPPcWLbS1b56ItGCB7XsXLuA7QwQ7/I0b2N61KzR2PfBJd9kyY9+1TEISuET+RlwcltRc00tLM3acdcYjl+7d1UX/d+3KHOk0b46ICv46OpqxnTuFVsvt31mRoUP1HXE85M+ozJ2r7TgdMACrB2UJ3AoVQHyMoVFwVBS2V63qOtJWCte2P/gA1+RNhnnIIY/d1mqt9t13eO+VV9TbLRZE8hQsCJ/DkiXqZ8nNP3rmFr66+fdfB1+0rEESuET+xZEjCO/y8YGWawRnzmiTxNNPq51RqekgGM4AACAASURBVKkIDzNCMB4eWOLzZJNx44Sj0Eh9FGelSxdtcxBjzplIeN3u776DKcD6/d27bVcetWuL5+Soz6Ur5IsvENVTtSo+k4QE+DG4tn3/Pswe7drZPoujR2H2adwYx3JcuSIiYFq3RkKR1neLSL/meK9esLnrTaAugiRwifwJbu8uUwYVAO3BbEZkgpZWWro04pPT0mDSSEnRJ3kt+fhjxC9Xq4b46EWL1NeOizN+LkfhhzVqqHtNcty8ab/hsLX88guOO3RI+/0mTfB8S5bE5MhDDMuXh2mEV/9zh/TsqX7Nsx95W7q338b1Dx3Ca+74tf4OxMUhNLNMGWEWsVhg8ihcGKaqzz/XL/tqNiNiaOBA2/csFji1n3/e/vfOBZAELpG/4Iy9+84d1NCIiNAmi4MH4Yxatky0OjMqv/6KH/KBA5gEChXCNo6UFNTsUJZA1ZMuXSB67xcrJtLyORITQbK8dKwROXAAxyYnQ7PV2qd7d3VXGiPi7Q2Sz2xY5vTpCJ+0DpOsVQuTIifRf//Ftfr3x+v4eFyTd6lXfkdatcLkw4n91i2YsYigkf/zj+PvWrdu+F5Yg2eQfvGF43NkEZLAJfIPjNq7jxxBBIFeTPGPP0LD+uEH1NwmclxDg4vSzrp2La4RFoasQsYQVTJrljHiNiKffSYclBkZiLIYMMC2u4894eaFhw+FbVdLnInBJkIse4MG+iGbevLUU8gy5SaqhASMLzXVdt/ixUWj5Oeewxi5XZqXNeDOVA5+Xm5WW7MGY/T2xorJaN/KOXNwHutVz9dfYzv/zN0ISeAS+QPc3u3tjR+QNVJTUTujcWN9Mho/XoSg8TKk1iVa9eTNN8UP32KBZm8yIRTw5k1o+9bJPXoycqS+BszllVdE2OHx4+hlqewq40j8/UUkyaFDcAC6YkLhYt3Fxojwhgoc06djO0+qUcatc3nhBbzHU/Pfew+v4+IwifXsqf4eLF2K/UaMgIbOn0GtWs4TLo80WbpUvf2ll7AqclHXHXuQBC6R96G0d+/fD7JesgSOvKtXEUbHw/ciImyLSPn6Qlv/9dfMVQVUFjxKTwe5EuGa330HcjdynuBgx/vUrw/CvX4dk0T16s6N1d8fpob0dNvmyZkVZzVspfB62ytX2n6uEybgPe4IXLjQ9niTCeUDGjTA8+YRQm+9BeexsgPOgQMwm7RsiUk6JATJUhMnGo9OUsJsBlG/9JJ6e0QEzCvZAEngEnkXWvbujAzx4y5ZEj9QkwnREnzJq5Tz52H2sNdVXSnWlfiUy+d790QBKD1HHi9TqpT27THxGJ089OzxvAqhnly7hnFeuqS/j8lkfNWRVTlyRJST1fJVjB2LFRWH9fEHDqiLfX30Efa7cQMTOtfOGcP5y5YF4XJbd9Wq8HNkBdHRcIZyXL+OcyubULgRksAl8iaU9u7XXoPW/eCB+gdetCi03337bMlt5EgQgFEn38KFjHXsaLud14q+fFnEO2tJvXrIhLTe/vPPxoibF1CyljZtYG759FP9Y8+eRc0Oe30qZ85EH0llCzBXy5IlmORGjgTBZmRgwqtaVfszHjWKscBA/H/1qvpc776L7SkpYlu5ciDkESMwcXNHZGoqImeUk9Rbb+nXO3EGPMOTx3t//z1e79+f9XMbgCRwibwHa3t3TAxIQfkDX7wYWle/frZE8tNPiEwwQjpffolzKSMoypZF1EdAAGy9erHV9eqJH7S1tG0rii1lVurXt9/jsnlzx9fYuRPtvpyNsnFGjh1Tf37NmqEmSWoqEmWGD9f+nIcOhXmGMdG0mQuPc+c9QKdOBYF7e0OUae7K6owREdrp8pnF8eM4L3eIDh8OM1VmTDKZgCRwibwFbu8ODka3E62+i0lJwgGmlG7doLEaIZ0mTfDj5Bo6z5AsV05kGX71lf7xO3ZAE3RVt/dnn0VjhocPYRNW1jHJrLgqEkZPBg9WJ8gwBrtxYCAKau3ejf30yq0OHAi/RkKC+rwbN+L927dRk6R9e7yOi8P3ISBArIwGDxbHDRuG5+dKmM2YZAYMwOunnoKPJZsgCVwib0Bp7yYSxBgSov5xO2o6YET278d5ChWChvjqqyC7MmWwLDebobVqHVukCOyinp6IUR4wwH4VQ0dStqyaBB88sF93pUsXEJ+WRh0QoDaRREToh0dmpm9m587Q+D09YVrQykI8d058Tjzph4cBWqNvX9zHtGnq63CMGAFHpTJ6xGLBM0pNhbOSH8OTkzj++UfUmdFKsXcGzz6LJKu7d3E/kydn7XxOQBK4RO5HXJxtfejmzRGvbbSIlLVUqGDbsXzQINiyeRp1ixYIryteHBr/4cPqJgN6UrAg7LfOZGxy4aVomzVDHWsi2PitTUS5RT76CLZk/rpIEXXCkjV47ZHDh0GwNWvq7/vss+oCWUSilndMDCZI6xomjMFko5yYLl7E9thYrMKs7yGrjsx583AeviqyTqpyIySBS+RepKTYhuC9+qqIFebhes6Ij4+2ln7lChyVgYEg4PffFz92veYCgwej5oVy25QpiPn+80/jY/L2hkM1LU04NJ9+2nZ1YS0eHnA+btmS/cS9Zo1wAn75pdi+cKH9z3TsWJRtvXcPn8WYMfr7ajluuVbfrRtWFMrolfR023j2v//GBKh1D4sXu6ZWCW/9VqIE7k3ZE9PNkAQukfvw33+IMlD+2Pr2FRl5jKERrRGimTMH0Q5nztj2lyQCUV+6JGLDW7XCEthR+y5lVINSuIZpVNq3Fw453ovRiAQFwc5vL4IlLExb48yKWJe3tRatolFKtGkDrXv7duxvr6ONtRmHh+bt3InX06eLfc+eNRbNM2mSbWndrMJiERp/w4auPbcDSAKXyB2wWLD01Go7xosNMQZyN0I0vJSo0eMCAjBp8ExNaxk2DNq51nsJCaJbuREZPhxa+pdfwmbarBljW7fCdty3L5oIZ5ZgXZWck1V5+WV8nsq0dIsF5qhBg5Ax6emp3UuSw/qcsbHwP9SqBWdyUhJef/qp/fseMgR2cXeCrxbeftu917GCJHCJnMX27aiUp1Urmsd3MwZHF7cJ25M9e9TnT0mxtR+/955xE8euXfqO0RYtoA1qdYbX2//4cfX4vv0258nWiHz+OQo+ab3XqJFz5+Ix+R4eSHzRSjm3WNTHcM1+2TK8Xr4csdd612jXTj3xuxvclDZnTvZdkzFJ4BI5hDNn1GaK2rVBtKVKqeuZPHyIpbKj7jE//2x7jc2bbfc7fx5kVLAgwhH1ojBOnrTNWKxfHzb4zJRL1WuuYDbnPDnbE09PEXp386bYXqqU7WRpsUC75vfryNzCpUABmHuaNIGZ6623bMND162DbblMGVFXXU+UprbsAjfPzZyZrZeVBC6RfUhPxw/RuhYJEZxbynomaWnIMHSUGfj887bEeP68yNLk8tJLCB3LTJElIphInKmpzeX115FqXbiwOtzNbBZdy10lw4YhKiQz2ZQeHra1WKZMEeO1WGDf5e9pNTlgDBq1tzcmOiViY43XbXFE0NbywQf43gQGwhaeE+Df6b59s/WyksAl3I/YWKSR84YEygQSZcPeJk2w7P3+e5QidfTDPXVKfZ3ERDgltciXpzxrSY8eIJ4//7QlfiLnTQRcatYE8V26BFINDUVKuNGqhEakUydofbzsbWakd2/bWPXVq8VzTU5GXRH+Xny8/c97yBCsmKzrm3TuDFPZW2/hPNu2YRLr0sV1SUXlyyPEtG9fVDecNw+Zt4cO4Xvojg456emi0XRIiNu78CghCVzCfdi/H8X1uUbVqhVqZL/4IswQ336rJsz+/UF6jn6kI0eq61hYLCAc63KqDRrYTzUvXx629Q0bMk/S1lKlChySvEgTLzX699+uI20imJ+s08uNilY2Ku+qU6gQ7Poc16+rozuaNHH8uZ87h893/Hj19pAQlDaoUweOWyUsFpjVHJXRJYLpxmzGBMFNF6VLw4HYpw8Km4WHI6TP+lgfHyQwtWiBsYwfD5Pahg0o0RAX5zwB88+WJw6dO+fc8VmAJHAJ1yI5GaRVty6+RgEBcEZybXn5cmzv1Ak/Mm9v2EuNEE9QkK2t+/RpbZPMZ5/Zb0Bw6hTG6cpGu7NmiRoYGRkgkoAA4yGP7pbYWNuSrLVrw1RSpAhMKMrmBwcPYlL098fnVqAAtFoj6NkTkwG3R3P7+fvvw1wzaZLY12IRjYiNSuXKYtKJitJ2hJrNWNEdOADF4dNPof0/9xwmorAw3JP1uX19kejVsiWUinfewcSycSOez+nTyOz84AOsNkaMwHE7duCvVnd7N0ESuIRrcOkSfty8NnSVKli+KsPEzpwRS01n7Zzt26uX5PfuISrF09N2X3u9I+fNgy27bFnnrs9TwPXE2lyQkaFdvTC7hdvDL11SJ8YEB8NUtX49CKtSJVFRz2IBCfFneeSIiL3mdUgc4eBB7M9LvP7yC17zcrq7dsEf4sy9XLsGM9eMGbYTb1AQCpR9/DE09JQUY+PMyMAqY/9+JCfNmYPksd691TZ/I8ITmiIjXR9rrgNJ4BKZh8WCtOlu3aBVeXigDshvv9kuQ5OSMm+nnTNHaFgWC7RBZx11zZo538uRCETx22/29xk7VhB4RgZqkWSFdKOism7SWbECJFasmG0vyqgo1BdR2r2rVMHnYx2Vw52CvDjYnTvGvx882enAAe2iY87IrFnivA8e4B6KFEEi0KJFMMsp/SY+Pojpf/tt2MDj4uyPNT0dGb7LlmGSad5cv4dnYCBWAC1a2Pbp5DJypPHnlAXoEbgJ72UP6tSpww4ePJht15PIIu7fJ1q6lOjzz4liYoiCgohefpnolVeIQkO1j3n2WaK1a52/1tGjRNWri/+HDyfasyfzY3cGjRsTJSURHTmi/X7t2kQREUQ//kjk5UWUlpa160VGEp06lbVzEBFFRRElJhJdvGhs/yeeIEpIILp7V719wQKiIUOIHjwgatiQ6PRpol9/JYqPx77x8drC30tONnb9MmWIrl3Tfz8iAtf29gY99uqF79KWLURt2qj3jY0l2rsX35Hdu4kOHSJKT8d7VargM61Vi6hQIaKHD/HZHjlCdOIEUUqKOI+3N1GNGkT16hHVr4+/FSsSmUxEGRk47/btRPPmEd24gWM8PYnMZvy/dStR27bG7j8LMJlMhxhjdWze0GJ1d4nUwPMITp6EvZo3zK1fHxqLvcL4FgtKbDrSsD76CJECym28psSdOwiRM5owk1l55hnR8NaR9OwJbTs93blelO6WmjW1tcKQEJTiXbFCHfFRubL2eSpWhFlCy0SlFB76GRUFrTU6GtqwI/NRlSr2O/8oQxqVETF8JWC0483167DxG2lK3bMnopX271ebYCwWJGDNmYOImUKFbI+dNQv2fm5qy4aO9IwxqYFLOEBGBtFPP0Hb3rGDyMeHqE8fotdeI6pjO/H/Px4+JFq2DPvZw+TJRKNGEf3wA7Q9jogIaEUrVhCNH090545r7kcP+/cTHT+uHoM1pkwhmjSJqHVropUriUqUcO+YnEHZskS9exN98knWz9WmDVGxYkKuXyf65huip5/GZ5+WBklNheZ+8ybk4kWsyBzBy4uoWzei0qWJihQhmjZNvDd+PL4TN2+K1ZzFAs1382aiLl0whhUrsI2DMYyTa9RcLl0yft8+PkR160JLDw6GRn7kCL73sbHYJyKCqFUrPIuWLYlGjyb6/Xdc22TCOMqVI2rShOi774xfO5PItAZORF8TUSwRnVRsm0RE14jo6CPp6Og8jEkNPFfi5k3YSbmzLywMziOlLfG//1DSVRkBcO6csdKndeoghC8+3jZKI7ur623caFs8S0tjzGntOjNiMuHz0Krc2LixWlOeORPOy8mTsdKKjnbsyHMmK9XfH/Zj7uA7eFBth1eGFvJGDLxRwtmz0Hxr1kRm6LlzcMKOHYsSv3oatq8v7nP0aBQau3jR1j9z8ybqz9hrKt2sGfw91seWKwfNXYm+fZGpmg3x4JRZJyYRNSOiWhoE/qajY61FEngugcXC2N69+ALyGNo2beAEUhYlYgw/BB7G1aoVPPBGHVXLluEcO3faRoNcvYowr+wiuJIls+9a7pDOnYUpIjzctl75zJnaxzkyKQQFMVatmjpEk/fN/PVXOAftHe/rC2Jbu1Zd07tTJ4RaTpxoa57hjRWUhce++AIRK/x1aKh+UTGTCU7nl17CcYcP67c2i49HFMzw4eqIFt7hp1cvJC916qQ29ZQsCVPbzJmMrVqFbXPnqs/Na+ecPu3Sn6cWMk3gOJbCJYHnAyQlofZIrVr46AsVQmyrXlrypUvQyIn0f0x6sn49flTvvmurvWUmSiSzkpUuOTkhnp5Yqbz6atbOU768bQjel18imuPgQUyg1qT3xBOoEvnTT47H2KEDJuj798XxyhXWwIHie6acRBo3RnTJnj3G7yU4GGT6wQcoimavsmFiIhKsxo7F6o/7U/z8MOl99BHu31pRYQwrzFOnEEM/YABixJXjKFQIIbQbN2IM589j++efO/tLdBruIPBLRHT8kYmlqJHzSALPIVy8iMQGTmaRkdBc7JXeNFrO1VpMJhDFtm3ud0bak0OH0IvRaKGl/CI7duDzO3MGBOTlhZ6e9pCebqxGebNm+N7ohepZh4+WKIGkGq3viL3rNG8OzX/1ajTgsGeiSEvD5zx5MsbHV5QFCiC8ceJEaPZG48WtceOG9hhr18a4tEwrboAegRtyYppMpnAi2sQYq/bodSkiuk1EjIimElEwY2ygzrEvE9HLREShoaG1L1++7PB6Ei6AxYJQsHnz4BTy8CCKjoazsXlztWNIibQ0os8+I3rzzewdrz3Mn09UvDgcrH/84Xj/X34hWrKE6Pvv3T60HEXfvkTh4USzZxOVKoWQtooVcf/PPUfk64swvMaN1ccxhnC9JUuI/vc/+9eoVg1O0549iUJC8L0ym/GXy61bRDt3wkmdVWzbhu+m8vxKyciAw3HbNiKtgIiiReF0bNSIyM9P/zzWwu8pNpbor7/g6LaGvz9CSuvXJ+reHSGX/fsjzPHWLf3flAug58TMFIEbfc8aMgolm3DiBFGPHkTnzhGVLIm47X798IO+c0ctt2/j78mT8LK7E35+xmOGiYhWrcIP6+OP8YMqW5aoQwfc319/uW+cuQUtWhAFBBBt2mT7nnVMdaFCiJa5cEG9X3CwIFmJzOONN4hmzCAqUEC9/ZtviAYOxO8nMtJtl9cj8AJaOxs4WTBj7FFUO0UT0cmsDE7Chbh8mah9e/y/ciUSayZPJqpc2XXXKFQIST7OoFw5oitXjO3bpw+SMMaPR3hY1apEEydC81q0yHZ/Ly9oiTzMK6/j2DFMWAsWgLy9vESSSvv2IBElqbdrh8lx/XqxrXVraKg8+cQoOnfGs/f0xKotPR1a/EkX/MS//x5aaq9eeL10KdGAAfh/4ECiF17ANa9fR0jfjh1E//yjPketWgh/bN0a3ykPD1vhY1cKEdH583gmXE6cEOctU0Yk8tSvD007MNDxPbVogb87d7qVwHWhZVdRChGtIqIbRJRORFeJaBARLSeiEwQb+AaCCcXhuaQN3M24fRthcIULqzvCVKuGGs2LFiFa4JdfkMjC09QLF0a9baWNr3FjVHFTbgsMZOyPP7LPntuoEWyuL71k+1758jlvb86MrFyJz4TXEFFKoUIIg+O+igoVUPMjNpaxb77Btm3bRMeinj1h271xQ13dsXZtY2MpUQKJU1u3wl8xfDjao/Xvn7l748041qwRBcZ4RUQewTFnDl5v2KCOZhozBo5bZZp88eK4xy+/RDihM+F6N2/iGu++iwgbZbp8QAAKWI0di9/D1atZ+92FhTH27LNZO4cDkKyFks+RmIhYXh8fOG04Hj7Ej3PCBMYuXMCPn4dLRUXhx2Fdua5vX9sf519/OS70lFVRlgXt0yfzZVRzs4SHg4TtkWyNGqjLooy75/VO+D5DhzK2b5/zFRADAxFhsXQpCG7CBOfvgWfo8s+MV6DkcdFxcer9g4Lw/YyPxz00aAClQuu8nTox9sknqAaoVXlQ77v/55/I2uzZU0ROESFipkYNRD599RWyjLUiULKCAQNwj0bHmwlIAs/PSE9HnLDJBO1HCaXGbDLhC92rF0j+r7/U3VO0UoerVEG/SmVDBinul169UB2Q48ED9fvKNnVGxGRClIizk2Lx4ggZnDgRJX7nz8c2Hx+klSuLjwUHI7Z/4EBEgfBok9deEyVY9WTxYv1YbiUyMkDCX30FUq5RQx1nHhYGEv/f/0DqvE2cO7FkCa5t3QfVhZAEnl+h7E84f77YfveubWuwCROwXDx7Fks+Rz9eXu942zb9fUqVcj+ZtWkjiujnJeGfx8WLyHa0t69WUwIuetXyXC0+PtCOR46Eqef8eWG2uHNHJF7VrWubvHL2LN7jHX2MfF4JCVgJEOFaWrh2DWaOsWNxTmU+QuHCMI+8+y5WE9nZ3FgJ3lPVOtHHhZAEnl/BW4u99x5eHz+OdGp/f/WPJTUV5D1kiOPCRd7eKPRjNqNesrsIY9w4mAFymmhdLZ6eIJ3YWJChlxdswuPHMxYTIxJbLl4EEa5ciTj97DYZVaki/By1a+M7ooVNm+AvKVCAsalTbWtgWyzQso1c09sbRbF4WV5uvrtyBUlBO3aglEP37uriYQUKYIzDhoH0z5xxq8nCaTzxBCZpN0ESeH7E/Pn4CAcMYOyHH5AAQYT05oEDkcxSuTISHMaOxXYvL/v1Ppo0wY9j1iz3Ecerr2K8OU20rpToaNh1PTyQ7Tp1KrRFDw9MmkpH2fr1OGbMGBDWu+9C83Vn4lORImiEMG0aUuTv3sVYjh3D+7zsgRL37oma51FRapPOxYswe/TpY7sKK11aNPxYuVL9no8PWpOlp8MsFxUljlHef/nyOPecOSj7YK8SZm7ASy/Bvu+mSUUSeH7DmjXiy85/QOHhiFq4fRv78PZWRKJ+hL0uNk2bokSoveV8bhXeQDc7hJOTkpS09uvQQW1qMJsxqfI+mlw8PUHg774LwrMmvcyItzeiSn74gbHLl/UjOLgScOGCevv27fiueHhg5XD5MnqbDhqkrnlSqpS6pk337lh5+PmB1Mxm9bhKlsT3zHqF2Lgx7OybNztuypAbsWwZ7kPZqs6FkASen7Brl5o02rSBDZB719PTETKo/IFY13XgBJNd9lUj0qEDuv6449z2Ji5HY7p7V11Pu0oVVLwzmxEdolfcy9cXZBcRgeevLJakNA+88IJ2A+Ksiqcnyib06wen3vbttp12+vaF9ssJPjGRsddfF+eoWxfn4K8LF8ZnNHcunIkWi9DiAwJgCuG9I63DUIkwsdSvj31WrBAhonrmm7wCXnpizhy3nF4SeH7B8eP4EVWpAlshEWpBMIYf05o1+sX7lTJsmPp1eLhtLLirRGvy4NKpE2yf7jTZZEZWr8bz/Pln9fbly8VEmZamjgapWhUT58KF7nXuKuu7cBNEqVL4PiQkQJtevRp+kU6dbBtRhIbCnMJDCOvUAXFPmWJ7LT8/TC4zZsD0YR2Cl5YmHJdEjnuQWtck4T6cbCjJ6nZERGBycwMkgecHXL6MH2NICDzfDx5A6xkwALbU+vXxkfr7q7uxKMW6FnKNGs43/nWF2KvJnJOyZw/IZNs22443vPM6YyhhqnyvcGHb6n+ulpMnxfV5Y90//kC5Xl5etkgRELe1GSI2Fvf08cewLdubVIlQ/e/XX2071ly4gPKqo0Yh0crXVxyjjFOfMkXY+omwAiDChKjE229jNZkfMGgQVllusINLAs/ruHMHcbzWWZbKyAVPT2hMRp1hf/8NjdLePloNAuyJo7Kz9eohTjeniVopnp6IDmEMZNi0KbbzOuhEaNjLGGP//GPcHBMUBO317bfFasmIcHL19ISjcMcO+CVatBCEmpgIwlRGPhw4ABs0ESbxUaNg0mAMpHL0KJJkOnZUJ+NkRqwbKPz7L8wgZcpgnKmpeN/bG87P1FQ8zwoVsEp86y08Z19fKBv5Afy3dPiwy08tCTwvg2dZenuDYBiDJqRl8vD01E7IUUqXLrBPFiyY8+SZkxIWJsLZ9uxBwwoirA7mzRMF+3v21LbnKqVUKWitkyfDH3HpEpJNsjK+4sUxjpgY2IuJMA5ubnjnHTinrR2Qp06pzRrWUqmS6IRDhIlmzRqEjs6eLep42xNen/vnn9GPkjFE3xCh0xKvZz5iBCYN60nb2xsrnFGjRAncvI4rV3Bvs2a5/NSSwPMq0tNhrzSZ0Nbs5k1EF2hFilSvnrsa7+ZWadxYNCLYv184IUuWxFJ/zRp1pIWezJwpHIOXLyOKwsjqp3x5EPPZs/qx323bwi/BXyu1/ldfxdivXcP3YORIvL56FdEQAwaoVw9K6d4dMdve3mJbRIT6denSsOXyBgoJCSCnjRthGune3bYWjXVkjrWEhyNbmJ8/s/W5czsqVICC5GJIAs+LsFgQQ0yEJfiECVnXmnmR/5wm0ZyQ3r3RlYgxhPMp24gZEV6gafhwaJnORMzUqIHwwX37bB3ISgkOFo02LBaYbObPh6nEOmKIfzf4cdZjLVdOXeRKT5o1g0lj9WpEUxhxKN6/j4nOSHu97t3h2D1wAPkIRKJ+SnYgPR11fFxVAyUlBefbuhW+iHHj8N2qVw/PvWRJ11xHAUngeRE8SiAgQFvD6dgRP2Kl1qdVJIgIx9vTDoOCYJIxEsGS12TUKDjxdu0SZQeMSp062l1ljEqLFsKmriVKzXrCBPsOsIQEmE1c+WxGjnRM2GYz4tm//hr1R556Sv1d0vrOfPIJzCdNm+r7RT75RDu0MSswm7GyWb4c99aokZh4Fy40do70dNj0d+zAPb//PkxSTZpghWvdUcjLC4pR69b4PfKKky6EHoEbaujgKsiGDk5g/nx0z9FC9gLhLAAAIABJREFU27bofjJuHOpGK+tFSwgULEj09NOor22vE9RLLxENHoxuRC1bZs/YfH2JUlLU2wYPRq11Lj4+RGfOEB04QLR/f+auU78+asLXq4ca1wEBRA8fopZ2QgL2qVuX6J13iLp2Re3s+Hhc76+/IPv3E927h32LFCFq0EBIvXp4vvy5BQTgGGVtbIuF6N9/cR9ff41OUdYIDSWqUYOoZk3xNzTUfpcbxvC5HjyIcx84QHTokLpWvZcXUatW6EY1YACeu8VCdPMmxvTvv6g5r/z/v//QSITDwwPNRJ54AhIerv4/JAQ1yN2ILHXkcRUkgRsAY0Qvv0y0eLHte02aEE2fTtSsGb5stWrhR+jtDfKRMIZBg9BUIDISjQqWLCH67jv3XnP0aKLSpUEu9++jk8vDh3jP05OoQgWiu3fR0ssdKF4cRN61K5oX9OwJop4wQb8VmocHUVSUmrArVRINEjjatUOLMyI0f4iOxv/37hHt20e0ezfRnj2YCHhHphIliJYtwyR27hzR0aNo2BETg98AEdqj1aghCL10aTyzI0cEad++bTtuf39MSjVq4DOOj1cT9eXLRKmp6mOCg22Jmf9frhwmghyEHoHbqOTuFGlCcYC9e7UbvtatC3ubxQIb5YcfiphjLy9EBOSmjMrcKGXKwME3dy6yDx0V9FJGaTgrdeog5lrLHGI2MzZpEvarWBEx265sTuHImegK8fSEL0YZ951ZCQ5WP5+HD+EnmD7dmCNZb3zW24oXx+fSowfs/fPno7HJmTPCL5KLQdKEkotx+jSWsD/9pN4eFUU0dSraNq1dS7R8OVo3MYamre3aET35pGhRZQR8CS2hRlSUusVWZvDii2j3lZamlqQkaPq7dmHpnlX4+KCtWlpa3jSd+frC7BAcjO9xmzZodxYTA2387FloyplF5cpYBTRsKLRpI+3RcjGkCSU34soV9HpcuhR2OQ5fX/R+LFwYfS2tu6uXKYOl55072TteiccbjRoRnTol7OHWCAwkql6dKCwMkxY3FyklMdF14ylaFGYne++//jp6wuZxSALPTbhzh+jDD4nmzbO1xXl4iIWfFgoXhi0wJka9vWlToj//dM94JSQcwdrZmI284hAlSqidw0akShWsEnIJXNqVXiKTSEwk+vRToo8+0u/qrtTEiYj694cDp2pVaBSrViFCxRp5nbz9/aG1uRIhIfmjS31eQG4ibGvExUGcQfnyRBcuuGc8LoQk8OxAejrRK68g8sARatWCSSUyUmg1Fy4QffwxoiXyU7TJ7NlEGzcS/f6768mbKPPkXbCga5f6Es6hSBF8/0uVwmqzRAlEgXh4QEwm8b+9bVnZt2LFnH4KhiAJ3J2wWBCrPXOm431LlkSoVYUKYtvx40QzZsAG7uUFh+WxY+4bb3Zj9OisHd+gAUIqP/7YNePhSEzEj7liRTg3PT0xiR465PjYwECi4cOJeveGryIxEZ/Z0aNCsuKgywto0QKrn5Ilhfj6IvRvzx78ZQymis6d4XBs3x4OdgnnoBWa4i55rMIIrbuuKMU6lf2999QduffuFXUjAgJQ9N5RgarHRZ59lrETJ8SzSk5WdyfKirz4Iho5L1niuAkxl759keGZlIR6IVu2IMNw4ECU93VUndGVUry4bacbd8qgQai8FxenHTJ58yaeZ/v24jtfujQqXG7ZkvebOGQjSKbSZxOsO+Eo5emnUSNZWbdi1y4cx2tQt2iB7cWK4Qfirg41uV369EFnGB5r3LUrypImJ6Mi46RJ6sYGRqV8ee1a6UbKq7ZqhXoh/fvjdZcuKD/gyjju3CZRUajD8+efiNF2hAsXUBCscWOR0xARwdibb6LiY25qRJyHIAnc3Vi9Wv9HMG0a6lhcuqTezjWXtWsFGYWE2E806ds3+7uXZ4eULIlSpufOQYPlndtbtQIhTJqEyS0zjX8rVwYB3buH4lDOHKvX7zI/SseOSBL77TfR9NgReEu1SZNQDZOfq3p1bDt2LH9028lhSAJ3F379Vf8HwWt3M4YuJsr3EhIYW7oUTRqIUG7TUZeaRo3Urx11VckrEhCA6nZz56pblGWGPAsVAtH37Klf2Cs/SkQEKg8aMaEULIhWa5MmMbZpk6iJbhRmM9r4vfGGWH2YTCj29MkntvXJJbIMSeCuxs2bSMvV+oH8+KPY79492+L6kyahmUBO/+il5F0pUMDYfkWKoEreuHHwFRgtF2uN1FTYrV95BXZsIti1O3RAlT9nJwEJp6BH4DIKJbNYs4Zo9Wrb7V5eRHPmIOU9KUk7dHDSJO1zVqiAlGJ3w9NTXW0tr6FWLaRf792b9+PfM4uMDNtt/v54NnXrEtWpg78REbbFp4zi4UOiLVuI1q0j2rwZGZgFCxJ17IjIkY4dkVgmkWOQBO4skpOJvvhCPz23QwdUlPv8c+Pn7NmT6Mcfs4e8ifI2eRMRHT4MyQswmYhat4ZUqoQEri1bkJBlD0WLEhUrhu8bF2X5WW9vomrVUOa0dGnETAcEEN24gXKoe/agZsqOHc6N9/ZtxOavW4eyrykpopJhdDTuw9fX+ecg4RZIAjeKtDSir74imjbNNkFk6VJkSrZuTbRhA35UzuDHH103TiUWLEChrE8/de15g4K0y3g+rihTRpBb3boo0mSxYIWwcCHRihXaNbA5IiNRgIkTdVIS6uToZQL6+CDZ5dgx/YmscmWiLl2Mjf/KFaL160Haf/yBCb5cOZQ1jo5GGeMCkipyJbTsKkohoq+JKJaITiq2FSOiX4non0d/izo6D2N51Aaeno6uHHo26969xX5KL3xOynffMfbDD6451+zZzrcey28SGIjPv0MHlCC9d0/9HXnwAN1beHihPYmKYuzdd9HZpnlz0S0mK+Lri84348ahoXJcnOPv9enTKNmqDMWsWhVjO3hQRo7kMlBmy8maTKZmRPSQiJYxxqo92vYxEcUzxmaYTKZxjwh8rKPJIk8Vs7JYkAE5cSLRP/8ga4zXL3n2WWg+168TffIJ7NxGsvTcjaZNMdaslixt2pSoWzdoYxs2uGZsroLJBLrhCA3FEt/PD5KSgkL/mSk5ULgw0bffwtQRFmZbxD85GR1yTp5E+v/SpY7PWakSxvvPP8bGEBUF00iRIvh+XbkCk4hyxVO6NFHjxpBGjVArx9vb/nkZw3NZtw7Ci6HVq0fUvTs07UqVjI1RItuRpWqEJpMpnIg2KQg8hohaMMZumEymYCLayRir7Og8eYLAGUNd7vffxw81MhJL4t27QRBjx8IkceOG9vHDhmkXm5JwDTw8bAt+GUFwMNqrtWiBGtGMoRRpTAzqdHMTx8yZKEF69ixKp546he+BqyeyNm1AmrVqwVyRkoJWZHv2wPRy/Dju02QCqXOybtwY9a3ttRrjyMjAJLxuHUwkV6/Cgd2iBa79zDMw/0jkeriawBMYY0UU799ljBV1dJ5cTeCMEW3dCuI+eBDayODBRL/8IhxB9npPtmwJ2+SWLdk3Zgk1WrRA/8Nq1VBNzs+P6No1kHRMDEg5JgattQx877MMf38QZdeuaC5QtiyINz0dNVE4We/ZI/wqAQGo8cLJun595yI9kpPR3mzdOjgj4+PhdGzfHmPp3BnOUYk8hRwrJ2symV4mopeJiEJDQ919ucxh506i997DDyk8HBEkv/1G9Pbb6v3sdT9x1tsv4TwqVABB16yJ8LiICFSq+/dfQc4xMdCWY2KIHjzInnEVLAhNmofu8fA9riXHx6M35Jdf4jv299+iN2RYGFHz5kLDjopy3mGYkIAwv3XroHAkJcEEwwtFtWuHMUrkOzzeJpS//oLG/dtvWFpWr47tWp59Hx/b5gsSroWvr4jkiIiAFh0RgaiX69dtNemYGNiHXa1NlyqFyaJ8eYSEHjwouh95e+N7wom6Th1UieRdybm9m2vWe/bAbk4EYq5ZU2jXjRpl3oRx4wZMfevWwR6fkQEz0TPPgLRbtMjxRrwSroOrNfANRDSAiGY8+vuT/d1zGY4cQTfuTZvENrPZlrgDA7GcvXIFpGEPQUFw/EVHQ9uaPt31484PqF4dxFWhgtCin3hC1OA+d06Q8+bNeO5HjrhnLEWKoPOKr69wAp48icni1i1M8JGR+Fw5YUdFqR2GKSn4vDlh790rHI5FiuBe+/XD37p1s6YJnz8vnJB//YXJokIFojFj8L2rVy/zSTsSeRJGolBWEVELIgoioltENJGI1hPRD0QUSkT/EVFPxli8o4vluAZ++jSiSqwzKOvXR8zse++BtJ98EtpLQgKcWBLOgUc0cA06IgKOOk9POOauXhWa9P79WAHdupX161aoAKLkNuMTJ3B+bq4ICoJd2scHJJyYCHs4R6VKas26Zk3sr8StW2qyPnRIRLxUrKh2NlapkjVCZQyx3py0edPlmjXxjKOj1Y0/JPItZE/M6dNhLmEMzq02bUDanTohLOvYMaLFi2FDvHgxZ8aY1+DvTzR0KMIqK1ZEOB8nk4cPQW7bt4Og9+1zzTUjI2EeiIrC/wEBmJh37wapnjihNql4eAjCvn9fvBcWpk45r13b1lloseDcSmcjT67x8cGxSnNIiRJZvz+zGdfipH3pEu6hSRMRORIenvXrSOQpyJ6YxYoRDRkCx87TT6s1q9GjUb9EwjFWr8YztFhgf967F82Zf/3V+b6DeihWDJEkkZEQ/n/Rogiv27MHTuNp06DN24PFghh+pWZdpw66xFjj4UM4GDlh79snOrCXLAmifvVV/K1VCyTuCqSmwo69di0csLGxmHBatyZ6911EsWiNV+Kxx+ND4EOHam+3WIw5ktq0AXm4Yqmfm1C2LMxG3NGmh0qVYJ/u0cO58wcFgXxSUhB3ffeueK9wYUHSSqIuVQqa/MOHMIHs2oUV1F9/OY4sKVJErVnXrYvPV8vMcOWKWrs+dgwasMmEcfTuLRJmypd3raniwQOs9nihqAcPsJro1AmadocOmHgkJOzg8TGhKJGejtDBtWuR4HDzJmzeNWogW40Iji1l8aD8gI8+glnjhx9cc76SJeE/CAkB6T54IBJflPViAgJQK0ZJ0pGRtsR6/TqIlJtDjhyxn7TDw/esq+9pEW1GBghaGR3CtfeCBXEf3BzSoAEmAlcjLg4a9rp1MCulpsLs0rUrsiGfftp1Wr1EvoI0oSQnI1Fn3Tr8iBISYEbp0AE/Hm9vohEjxP5GyDswEFrStWvuG7crMdZhtQNbNGiApfyTT4JMk5MRJnfyJMh640axr58f9nv6aTVRh4baOvMsFhyvJGx7zX69vTHBKjXrKlVE+J41EhJEZuOePdDkk5LwXtmy6lT06tXdV6zp8mVRKOrPP3HfYWFYEUZHYwx69yAh4QCPD4EPGICqf0WLCo2nbVsQyzvvEM2aBUJYswaa6k8OIiM9PaFBOgovzMuoUgUa4rffglz5as3bG+81aaI2f4SH65NRcjJWN5ywf/7Z/rWfekptt7YO31OCMTgXldEhp05hO4/vHzRIaNjlymX6kTgEY3B8cickD02tVg327OhoTEQyckTCBXh8CLxjRxD4a68RTZ2KbadPEz3/PJbWQ4eClF59FbZuJYoWBQkoJSAAJTvzM86exQRXpw4mQE7UERGONda4OKH9/vKL/XBMZfhe3bogOOvwPSVSU0GMnKz37hW+icKFkbbeuzcIu149fFbuhMWCyWntWpA2L1zVoAHRxx8jcqRiRfeOQeKxxOND4C++KJxhTZsiKeKNN/Dj3rABIYUtWqiJZuNGkHWZMrCXHjlCNGMGlub5FV27YlKrVg2k46jKHZHIPty9G7Zde80KAgJQl4Nr1lrhe9aIi1Nr1wcPiqzYiAikinPtumrV7ElmSU/H94kXirp+HZNay5aIaurWDb4BCQk34vFyYiYlIesvNhav27UjWrIEceBEiECoUAGxt6NHI4TsxAnh2MyP6NQJCUz16xtf1qelwRm6cyeaRly+rL9vmzYwtXDCdhQrbbFA81dGh3CN1tsbhK+MvS5VytiYXYGkJOFH2bQJETV+fvCjREfjWRZ1WNNNQsJpSCcmEUprcvImQtnQVatE2VClZj17dvaPz9UoU0bbwTp+PFGvXlhdGCHtu3ehXX/9NbRNPZQrR9S3L8wW9sL3lEhKQuw1J+t9+0SoYVAQSHrwYBB27drZ387r7l2Q9dq1IO/kZJB0ly4g7bZt7Zt7JCTciMeDwFNSEIExd656e+fOOTMed2DIENhcS5eGiWHiRDV5d+uGbY4caIzBYbliBSaxhAT9ffv2xTOsW9d4nPS1a+pQvqNHRYPeqlWR1cm164oVc8bZd/26iBzZuRPjK1OGaOBAkHazZrJQlESuQP4n8BMnYNM9eRKva9aEM27FCrweMgQalKv7Rrob/fujIFdEBCrlrVuHnp1796r3++YbOCD1iDAjAxEhc+bYL4kbGYlmFc2b2w/fU8JsxvPnZL13rzC3+PlBU3/7bZB1w4Y5W6f63DkRObJ/P7ZVqgQ/SffuMP/IQlESuQ1afdbcJdnaE9NiYezTTxnz8WGsZEnGfv5ZvHfvHmOff57zvRbticmkfl2nDmOffMLYlSu4h9u3GVu0iLG2bW2PDQ5m7MAB7edy8SJjY8Yw5uFh//qvvcbY338zlppq/JknJDC2dStjEyagj2ZAgDhfSAhjPXsyNmcOzpuWlvnP1hWwWBg7dIix995DL0g+ztq1GZs2jbFTp2RfSIlcA9LpiZk/CfzGDcbat8ftderE2K1bjKWkMLZunTbh5QZ56inG3n8fjXMLFMC2KlUYmzyZsXPncF+3bzO2eDHuwdPT9hxt2jC2b594DvfuMbZ8OUjJ3rUbNWLs++8ZS0w0/owtFkwGy5czNnQoxs8nHQ8PxmrUwCSwciVjly7lDjLMyGBs507GRo4UTao9PBhr0QKT/eXLOT1CCQlN6BF4/jOhbNoEW+WDB7B5h4Yi3Tq3ZktGRyPyYutWxKeHhqK+c58+cDLGx8MeO3w4KvuZzXAWBgSIQkstWiAZyd8fZpSGDfWv5+eHCJthw5xrJpCWhjBKpf2aN08ODMQ1u3cXbcACAzP9SFyKlBQ8N14o6vZtpKu3aQMTVJcurqkiKCGRA8g/YYRJSURvvWW8obB1d3N3gReBskaZMphk7t8HgfTqBdJu2BCRD+vXI/Fo+3bYqcuXB9knJeE9vabK1mjfnmjUKKS3O5MufueOSJLZswehlLy8wBNPiFC+xo1hH89N6eD378Ouv24d/j58iJIHvFBU+/a5Z4KRkDCA/F0PPCYGP0y9inoFCiCRp2ZNFCk6cAAlUHn0g6vgTMf0QoUw5j59QK737mmT9rPPgiCXLEFEhD2ULg2y7tXLeOdyIkxkMTHqZBleIsDLCysYZex1cLCx82YnYmNFi7Ht27FiKFlSdElq1UoWipLIs8jfceDffYfMyqZNYU4oXBhkU706TAZpaSjZ+c036uJLrsDIkUj8+eknx+Tt64uwuz59kNqfmAjS7txZkDYRNNywMERwzJypf77evYleeAGk6kwCSXIyQg25KWTfPtHzsVgxnG/AANEGzM/P+LmzE5cugbDXrsV9MIZnN3w4SLthw9y1MpCQcDHyhwZOhNRm69jc48dB2itWiD6FrsLcuVieb9nieN8OHUDa3bqBpNevR0nXrVudu+aMGQjjq1XLWIo7x82b6lC+w4fxvIhQz0VZma9y5dxbaIkxhIPycL+jR7H9qadEi7Gnnsq945eQyCTytwZOJMg7Ph7V8775Rru7fFbxxRdovaYsPasF3sy2Rw9ogYsXO675oYXp05GEZFSTNJtFmVZuEuFlWn19oVG/8YaIvQ4Kcn5M2QmLBRmynLQvXABBN2yI1Ul0NGLhJSQeQ+QPDdxsJtq2DXbi9etFk1mO0FBhw506VZ1ObxRRUchKvHLF/n4zZ0LjPnsWNUaMlJutXh1j5jb8ihWJJk2CicQRcT94gMQTTtZ//QUnHhFs4somuzVrOqe55xTS0mDv54WieMONVq1A2N26ifo1EhKPAfKvE3PfPqKePUWYoKcniErpdCtbFu+Zze4r3P/aa9B0HdW59vAAwXOzRXw80Ycfoh5I+fIIbevbV3ucjIk+lNwkcvw4tFSTCZOMMjrEGUdmTiMxEeYoXijq3j11w42OHd3TJUdCIg8g/5pQTCbUAOGkXa8eWmRZ4/p1pJ+7C59/rr39iSdQja9JE5Dqk0+CxH//HbHbe/ZghbBoERyHSjt+ejpqlSvt13yiCgjAfb/3noi9zoyJJicRHw+n8tq1WEGlpMCJyu3ZbdrkXgeqhEQuQN4n8AYN0CndHjZsgBZnNmfPmEaOFIRtHXL355/QsnfuRCz4/PnoFuPtjfjvffsEWf/9t2gDFhaGIkp8VREV5b7VhDtx9aooFLVrFz6TsmVRkyY6GpFEefG+JCRyAPn7l5KcDHK012DAFejaFU7N+vX1u7/89ReI+9dfUcP6009R/P/QIZhf9u5FhyAiYQYaMkQQtjNZk7kNZ88KJySvrV6lCgpZRUejUFReMfVISOQi5H0buB527gRBuguLFiE5yJG2yEu7ctt4qVIIdTt6FJ1miGDbVdrs69bVNgPlFTCGiYmTNnfO1q0rzCNVquTsGCUk8hDyrw3cGrdvw+788KF7zv/JJ6hV4gjbtqHjjzVu3UICSqdOgrSrVMn7pUozMmAe4pEjV65gJdG8OequdOvm3mbCEhKPIfIPgd++jXjpr792zfmKFkUnmB49iBYuRJGo6dO1ydtigflj717se+iQ+v2oKNTf4Bp2fimelJwMk9C6dXBG3rmDWPO2bYmmTEGhqOLFc3qUEhL5FvmDwNeuRc2QrCIsDHVEevaEXZYItu2vvkK0xzvvYFtiojr2et8+URmQw98fztX8VoPj3j2UJVi3Dt3mExMR/dK5M0wj7dq5vwu8hIQEEeUHAk9NxRLdEQoWBNlooWhRpLUrnWmMwck2bx4SaiIjQeZ798J+bTZjXx8fUaWPiGjcOKI338xfmufNm6JQ1O+/I7yxdGlkmkZHw9eQFxKEJCTyGfK2E5MxkMeuXWJbQADqgffogTC8Bw+goZ84oX2OL74gevVV8TojA8kxrVuL5roc/v6INGncmCgkhOi330BsXl6IJHn7bVTAyw+4cEE4Ifftw7OOiBBOyAYN8r7dXkIij8AtTkyTyXSJiB4QkZmIMrQu4DY8eIAsvT178LplSxFL7OsLe+xbb4n+hhybN8NOvmYN0WefET33HDIAuTlk/361pt6rF2K6GzVCyvuNG7CFz5gBJ91rr0Hrzo0lVp0BY5i4OGkfP47tNWogrT86mqhaNRnuJyGRi+AKE0pLxpiLS/0ZwL17cB6+8w40bmVBI8Zg+uDkHRKCsELeiIDHIi9YALMIYyDj6tUFeTdrBnMBr0Vy4wY62SxciP2HDMG1eZp+XoTZDO2aR45cvAiCbtwY0TbR0XhmEhISuRJ51wZetqxtB3YikPbo0SCmJ5+EndbHB3bpDRvEfoUL4xy9e4sU/BUriIYOhfll1SqQ961bRB99BFNLejrRSy/BoRkWln336kqkpWFiWrcO5p9bt2ACat0aK4muXRGrLiEhkfuh1SjTqBDRv0R0mIgOEdHLOvu8TEQHiehgaGio25p+sv/+Y+z559XNer28bBv4hoczduIEY2az+vivv8b7XbqgE3tcHGNvv82Yvz8a3w4YwNj58+4bvzvx4AFjP/zAWJ8+jBUqhPssWBBd4r/9Ft3kJSQkci3IHV3piSjk0d+SRHSMiJrZ299tXenXrGHM11dN3A0bMvbGG4ytXo3O9ESMTZmiffy336Kjeps26Gj/7ruMBQRg2/PPMxYT455xuxNxcYx99RVjnTsz5uOD+w8KYmzgQMY2bmQsOTmnRyghIWEQegSeJRMKY+z6o7+xJpNpHRHVI6I/snLOTMHTE5mN9erBHFKnDhyZFgtMIps3ow7J++/bHrt2LdqS1aiB+iOVK6Oeds+ecN5VrZrtt5Np/PefKBT1xx+4/9BQRNlER8O2LQtFSUjkH2ixuhEhooJEFKj4fy8Rtbd3jNs0cC1YLIwNGwbNc/x4vLbG5s225pZnnmHs2LHsG2dWYLEwduoUY9OmMVa7triXqlWxijh4UPu+JSQk8hTIDRp4KSJaZ0JYWQEi+pYxZqBBZDaAMTgy589HKOH06bbhbxs2oD4HR9u2RJMnE/1fe/cbW1V9xgH8+6DRRIOOrnMytlSISGDIFIjAMAQFaimRcknUqQkSZ4Ym4BvfQEiI8Q9JeaGBBF4scUb8syXGXoZEA4xIiC8YuioTnJRq2oy2sYwK6yy0tfe3F99z19K19562955zfrffT3JzT8+9vffJQ3nuub/zO89v3rxoYx2pTIYNsurqeKTd0MD9CxZwamMqBdxxR7wxikgkRl3AnXPfAPhVAWMpDOdYtHfuZBGvrb26eF++zBVv0mn+PH8+pxwuWBBPvGH09nJIJDvdr6WFw0ZLl7L3eE2N3+1mRWRUSmtA1DlgyxbOYd60iffZ4t3dzYWFN27sf35dHY9Yk6irix0Ns42ivvuOq9M88ACwfTt7j5SVxR2liMSodAq4czxJWVvLE5c7d7J49/RwseOXXrp6QeKWFl7gkyQXL3I9yHSaV4d2dbFX+IMP8oOmstLvPuEiUlClU8BfeIFj3U89xSGRvj7gzTe5v6mpv/BVVHA4IinFu62tf+bIRx+xF8vkyVwfM5XiMMnAdTJFRAKlUcBffplT/tav54nLd97hCcnGRp6U3LSJR+Y33wwcOcKpdXE6e7a/58jx49w3fTp7jadSnA6pRlEikof/BXzHDl7a/vjjHGKYM4drMM6ZwyPb2bPZ1wRg8R7YMyUqzrEFbbZonzrF/XffDbz4Iov2rFlqFCUiI+J3AX/lFa7CU1YG1NcDb7/NQvjuu1yF/tykwecMAAAGl0lEQVQ5rnJ+5QqbWUW5DmNfH7sbZmeONDXxqPree4FXXwXWrAFuuy26eESk5PhbwHftAp57jtsdHUB5OYdOHn6YU+xaW7kazqVLbN50553Fj6m7m0f5dXWcZ37+PBc6WLGC3xJWry6d5dREJHZ+FvA9ezj/GQCmTeOq74891n+ZeHs7sGwZO+0dPgzMnVu8WDo7ueJ8Os37zk5g4kSguppDIytXAjfdVLz3F5Fxy78CnslwumBFBe/Xrbt6lsaFC2yN2tzMqXgLFxY+hvZ2HmGn01yVp6eHR9aPPMKivWxZaa2DKSKJ5F8BnzABOH2a496D12G8eJEXujQ0cD519uRlITQ395+E/PhjfpBUVHA9zrVr2UQru/iDiEgE/CvgABfUHayzk8MW2WXBli8f23s4xw+KbNH+7DPunz0b2LqVR9p33aWZIyISGz8L+GBdXbxa8cQJzkBZtWp0r5PJ8DXSaZ6IbGzk/kWLOF0xlQJuv71wcYuIjIH/BfzKFRbWY8c4jXCkvU16eznFMDvdr62NJ0Pvu48X1tTUJOeqTRGRAfwu4D09nDZ46BDw+uvAo4+G+73vvwcOHmTRPnCAY+c33ABUVfEDYNUqYNKk4sYuIjJG/hbwH37g1MH33+e0wvXrcz+/o4PFuq6OBf/yZRbp1at5EnLFChZxERFP+FnA+/pYsN97j1djPvPM0M9raelvFHX0KH9vyhTgySd5pL1kiRpFiYi3/CvgmQywYQPHu7dv56INA5050z9z5MQJ7psxg4s8pFJcwEGNokSkBPhVwJ0Dnn0WeO01XsSzZQv31df3F+0vv+Rz581jD/C1a4GZM+ONW0SkCPwp4Nml0nbv5lH3/ffzcvp9+7ga+4QJHBLZsIGNouJuGSsiUmT+FPBt27hE2rXXAnv3sqPf9dezhezzz3MeeHl53FGKiETGjwL+1lscDgE4U6SykuPZVVVsHCUiMg75UcCnTuXY98qVvMBGjaJERDwp4IsX8yYiIv+j+XQiIp5SARcR8ZQKuIiIp1TARUQ8pQIuIuIpFXAREU+pgIuIeEoFXETEU+aci+7NzM4DaI7sDYdXDuBfcQcxAoq3uBRvcSnesatwzv1k8M5IC3hSmNmnzrn5cccRluItLsVbXIq3eDSEIiLiKRVwERFPjdcC/vu4AxghxVtcire4FG+RjMsxcBGRUjBej8BFRLynAi4i4qlxUcDN7CEzO21mGTMbdnqQmTWZ2Rdm9rmZfRpljIPiCBtvlZmdMbNGM9scZYyD4igzs8Nmdja4nzTM82LNb758Ge0KHv+7mc2NOsZB8eSLd6mZXQry+bmZbYsjziCWP5hZu5mdGubxpOU2X7yJyW1OzrmSvwGYCWAGgKMA5ud4XhOAch/iBXANgK8BTANwHYCTAGbFFO8OAJuD7c0AapOW3zD5AlAN4EMABmAhgL/G+DcQJt6lAA7EFeOgWJYAmAvg1DCPJya3IeNNTG5z3cbFEbhz7h/OuTNxxxFWyHjvAdDonPvGOdcD4E8Aaoof3ZBqALwRbL8BYE1MceQSJl81APY6Og7gR2Y2OepAA0n6983LOXcMQEeOpyQpt2Hi9cK4KOAj4AAcMrO/mdnv4g4mjykA/jng53PBvjj81DnXBgDB/S3DPC/O/IbJV5JyGjaWRWZ20sw+NLNfRhPaqCQpt2ElPrd+LGocgpn9BcCtQzy01Tn355Avs9g512pmtwA4bGZfBZ/UBVeAeG2IfUWbE5or3hG8TGT5HUKYfEWa0zzCxFIP9sj4j5lVA9gHYHrRIxudJOU2DC9yWzIF3Dm3vACv0Rrct5tZGvwaW5QCU4B4zwH4xYCffw6gdYyvOaxc8ZrZt2Y22TnXFnwtbh/mNSLL7xDC5CvSnOaRNxbn3L8HbH9gZnvMrNw5l7RGTECycpuXL7nVEErAzG40s4nZbQCVAIY8Q50QnwCYbmZTzew6AL8BsD+mWPYDeCLYfgLA/32DSEB+w+RrP4B1wYyJhQAuZYeGYpA3XjO71cws2L4H/P98IfJIw0lSbvPyJrdxn0WN4gYgBR4BdAP4FsDBYP/PAHwQbE8Dz/SfBHAaHMpIbLzBz9UAGsDZCnHG+2MARwCcDe7LkpjfofIF4GkATwfbBmB38PgXyDFjKSHxbgxyeRLAcQC/jjHWPwJoA9Ab/O3+NuG5zRdvYnKb66ZL6UVEPKUhFBERT6mAi4h4SgVcRMRTKuAiIp5SARcR8ZQKuIiIp1TARUQ89V/3MddaLrqpJAAAAABJRU5ErkJggg==\n",
>>>>>>> 5f0a1eafac2032258288a447785a963509381def
      "text/plain": [
       "<Figure size 432x288 with 1 Axes>"
      ]
     },
     "metadata": {
      "needs_background": "light"
     },
     "output_type": "display_data"
    }
   ],
   "source": [
    "#Step 1: Take the derivative of the Loss Function for each parameter in it.\n",
    "        #in fancy Machine\n",
    "#\n",
    "\n",
    "\n",
    "import numpy as np\n",
    "import matplotlib.pyplot as plt\n",
    "\n",
    "def linreg_gd(X, y):\n",
    "    # Insert your code here\n",
<<<<<<< HEAD
    "    h = 0\n",
    "    q = 0\n",
    "    alpha = 0.1\n",
    "    maxiter = 1000\n",
    "    \n",
    "    n = float(len(X))\n",
    "    theta = [0,0,0,0]\n",
    "    \n",
    "    for i in range(maxiter):\n",
    "        line = h*X + q\n",
    "\n",
    "        d_h = (-2/n) * sum(X * (y - line))\n",
    "        d_q = (-2/n) * sum(y - line)\n",
    "        h = h - alpha*d_h\n",
    "        q = q - alpha*d_q\n",
    "        \n",
    "    #return theta\n",
    "    return h,q\n",
=======
    "    \n",
    "    return theta\n",
>>>>>>> 5f0a1eafac2032258288a447785a963509381def
    "\n",
    "# Load the data\n",
    "\n",
    "#TV,Radio,Newspaper,Sales\n",
    "data = np.genfromtxt('./Advertising_centered.csv', delimiter=',', \n",
    "                     skip_header=1) \n",
    "print(data.shape)\n",
    "\n",
    "\n",
    "# Insert code here\n",
    "n = data.shape[0]\n",
    "\n",
    "y = data[:,-1]\n",
    "\n",
    "\n",
    "X = np.c_[np.ones(n), data[:,0:-1]]\n",
    "\n",
<<<<<<< HEAD
=======
    "plt.plot(X[:,1], y,'r')\n",
>>>>>>> 5f0a1eafac2032258288a447785a963509381def
    "\n",
    "h,q = linreg_gd(X[:,3],y)\n",
    "\n",
<<<<<<< HEAD
    "line = h*X[:,3] + q\n",
    "plt.scatter(X[:,3],y)\n",
    "plt.plot([min(X[:,3]),max(X[:,3])], [min(line), max(line)], color='red')\n",
    "plt.xlabel('X')\n",
    "plt.ylabel('Y')\n",
    "plt.show()\n",
    "\n",
    "# Insert code here\n",
    "# ...\n",
    "\n",
=======
>>>>>>> 5f0a1eafac2032258288a447785a963509381def
    "# Call your function and report theta values\n",
    "# ..."
   ]
  },
  {
   "cell_type": "markdown",
   "metadata": {},
   "source": [
    "b) [10 points] Create a plot that shows the value of the cost function, $J(\\theta)$ in each iteration when you apply your gradient descent function to the data in `Advertising_centered`.\n",
    "\n",
    "*Note*: Create a vector J with k_max elements where k_max is the maximum number of iterations. Use `matplotlib.pyplot.plot` or `matplotlib.pyplot.semilogy` to create the figure."
   ]
  },
  {
   "cell_type": "code",
   "execution_count": null,
   "metadata": {},
   "outputs": [],
   "source": [
    "# Insert code to generate figure here\n",
    "# ..."
   ]
  },
  {
   "cell_type": "markdown",
   "metadata": {},
   "source": [
    "4) [An alternative cost function for linear regression, 30 points]\n",
    "\n",
    "The least-squares cost function\n",
    "$$\n",
    "    J(\\theta) = \\frac{1}{2}\\sum_{i=1}^n (f_\\theta(x^{(i)}) - y^{(i)})^2\n",
    "$$\n",
    "is the workhorse of linear regression but it has a significant drawback, namely it is sensitive to 'outliers', data points that differ significantly from the rest. If the prediction, $f_\\theta(x^{(i)})$ differes considerably from the true value $y^{(i)}$, the squared difference will have a large contribution to $J(\\theta)$, magnifying the effect of outlier points. Using the absolute error $|f_\\theta(x^{(i)}) - y^{(i)})|$ instead of the squared error, reduces the effects of outliers but the price to pay is the optimization becomes more difficult.\n",
    "\n",
    "The *log-cosh* cost function\n",
    "$$\n",
    "    J(\\theta) = \\sum_{i=1}^n \\log \\cosh (f_\\theta(x^{(i)}) - y^{(i)})\n",
    "$$\n",
    "alleviates the outlier problem to some extent by behaving like the squred error when the difference between model predictions and data is small but like the absolute error when the difference is large. The log-cosh function is differentiable and can be used in gradient descent algorithms.\n",
    "\n",
    "*Note 1*: Outliers in data can arise for many reasons, they can e.g. represent faulty measurements or simply be due to high variability in the data. Detecting outliers prior to fitting a machine learning model is in general not trivial. A machine learning algorithm should preferrably be robust to the presence of (few) outliers in the data."
   ]
  },
  {
   "cell_type": "markdown",
   "metadata": {},
   "source": [
    "a) [10 points] Derive the gradient for the *log-cosh* cost function\n",
    "\n",
    "*Note 1*: Start with the case $n=1$. The case $n \\geq 1$ follows by noting that the derivative of a sum of functions is equal to the sum of their derivatives.\n",
    "\n",
    "*Note 2*: You can use the LaTeX support in the Jupyter/Colab notebooks (see e.g. this notebook for examples) or simply write down your solution on paper, take a photo with your phone and include as an image below using\n",
    "\n",
    "`<img src=\"mynd.png\" alt=\"drawing\" width=\"300\"/>`"
   ]
  },
  {
   "cell_type": "markdown",
   "metadata": {},
   "source": [
    "Insert derivation here\n",
    "..."
   ]
  },
  {
   "cell_type": "markdown",
   "metadata": {},
   "source": [
    "b) [20 points] Implement a gradient descent algorithm for linear regression that uses the *log-cosh* cost function by modifying your code from problem 3). Test your code on the `outlier.csv` data set using the model\n",
    "$$\n",
    "f_\\theta(x)=\\theta_0 + \\theta_1 x_1\n",
    "$$\n",
    "and compare the results by applying least squares regression to the same data. Create a scatter plot of the data that includes the two regression lines in the plot (see `v01_demo`). What can you conclude from this (single) experiment?"
   ]
  },
  {
   "cell_type": "markdown",
   "metadata": {},
   "source": [
    "$(\\theta_0, \\theta_1) = $ ( ... insert your results here ... )"
   ]
  },
  {
   "cell_type": "code",
   "execution_count": null,
   "metadata": {},
   "outputs": [],
   "source": [
    "def linreg_gd_logcosh(X, y):\n",
    "    # Insert your code here\n",
    "    # ...\n",
    "    return theta\n",
    "\n",
    "# Load data\n",
    "# ...\n",
    "\n",
    "# Call your function\n",
    "# ...\n",
    "\n",
    "# Draw a figure to compare the results with the least squares solution\n",
    "# ..."
   ]
  }
 ],
 "metadata": {
  "kernelspec": {
   "display_name": "Python 3",
   "language": "python",
   "name": "python3"
  },
  "language_info": {
   "codemirror_mode": {
    "name": "ipython",
    "version": 3
   },
   "file_extension": ".py",
   "mimetype": "text/x-python",
   "name": "python",
   "nbconvert_exporter": "python",
   "pygments_lexer": "ipython3",
   "version": "3.6.9"
  }
 },
 "nbformat": 4,
 "nbformat_minor": 2
}
